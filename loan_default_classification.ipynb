{
 "cells": [
  {
   "cell_type": "markdown",
   "id": "6f8dcf5b",
   "metadata": {},
   "source": [
    "# Classification Problem Statement \n",
    "\n",
    "### Predicting Loan Defaults\n",
    "\n",
    "Predicting loan defaults is an extremely common use case for machine\n",
    "learning in banking, one of DataRobot's main target industries. As a\n",
    "loan officer, you are responsible for determining which loans are\n",
    "going to be the most profitable and worthy of lending money to. Based\n",
    "on a loan application from a potential client, you would like to\n",
    "predict whether the loan will be paid back in time.\n",
    "\n",
    "### Data\n",
    "\n",
    "You will be working with a loan dataset\n",
    "from LendingClub.com,\n",
    "a US peer-to-peer lending company. Your classification target is\n",
    "`is_bad`.\n",
    "\n",
    "### Task\n",
    "\n",
    "Partition your data into a holdout set and 5 stratified CV folds. Pick\n",
    "any two machine learning algorithms from the list below, and build a\n",
    "binary classification model with each of them:\n",
    "- Regularized Logistic Regression (scikit-learn)  \n",
    "- Gradient Boosting Machine (scikit-learn, XGBoost or LightGBM)\n",
    "- Neural Network (Keras), with the architecture of your choice\n",
    "\n",
    "Both of your models must make use of numeric, categorical, text, and\n",
    "date features. Compute out-of-sample LogLoss and F1 scores on\n",
    "cross-validation and holdout. Which one of your two models would you\n",
    "recommend to deploy? Explain your decision.\n",
    "\n",
    "*(Advanced, optional)*: Which 3 features are the most impactful for your model?\n",
    "\n",
    "Explain your methodology.\n",
    "\n",
    "### Data Dictionary\n",
    "|\tColumn Name|Type|Description|Category|\n",
    "|---|---|---|---|\n",
    "|`addr_state`|Categorical|Customer State|Customer\n",
    "|`annual_inc`|Numeric|Annual Income|Customer\n",
    "|`collections_12_mths_ex_med`|Numeric|(Credit based)|Customer\n",
    "|`debt-to-income`|Numeric|Ratio of debt to income|Loan\n",
    "|`delinq_2yrs`|Numeric|Any delinquency in last 2 years|Customer\n",
    "|`earliest_cr_line`|Date|First credit date|Customer\n",
    "|`emp_length`|Numeric|Length in current job|Customer\n",
    "|`emp_title`|Text|Employee Title|Customer\n",
    "|`home_ownership`|Categorical|Housing Status|Customer\n",
    "|`Id`|Numeric|Sequential number|Identifier\n",
    "|`initial_list_status`|Categorical|Loan status|Loan\n",
    "|`inq_last_6mths`|Numeric|Number of inquiries|Customer\n",
    "|`is_bad`|Numeric|1 or 0|Target\n",
    "|`mths_since_last_delinq`|Numeric|Months since last delinquency|Customer\n",
    "|`mths_since_last_major_derog`|Numeric|(Credit based)|Customer\n",
    "|`mths_since_last_record`|Numeric|Months since last record|Customer\n",
    "|`Notes`|Text|Notes taken by the administrator|Loan\n",
    "|`open_acc`|Numeric|(Credit based)|Customer\n",
    "|`pymnt_plan`|Categorical|Current Payment Plans|Customer\n",
    "|`policy_code`|Categorical|Loan type|Loan\n",
    "|`pub_rec`|Numeric|(Credit based)|Customer\n",
    "|`purpose`|Text|Purpose for the loan|Loan\n",
    "|`purpose_cat`|Categorical|Purpose category for the loan|Loan\n",
    "|`revol_bal`|Numeric|(Credit based)|Customer\n",
    "|`revol_util`|Numeric|(Credit based)|Customer\n",
    "|`total_acc`|Numeric|(Credit based)|Customer\n",
    "|`verification_status`|Categorical|Income Verified|Loan\n",
    "|`zip_code`|Categorical|Customer zip code|Customer"
   ]
  },
  {
   "cell_type": "markdown",
   "id": "18a8b0f1",
   "metadata": {},
   "source": [
    "In this notebook, I build a binary classification model of loan defaults using three ML methods \n",
    "- Logistic regression\n",
    "- Gradient boosting machine\n",
    "- Neural network \n",
    "\n",
    "Details of the task is shown in https://www.interviewquery.com/takehomes/datarobot-1"
   ]
  },
  {
   "cell_type": "markdown",
   "id": "78cc5a93",
   "metadata": {},
   "source": [
    "# Download Data"
   ]
  },
  {
   "cell_type": "code",
   "execution_count": 1,
   "id": "3f2d5b80",
   "metadata": {},
   "outputs": [
    {
     "data": {
      "text/plain": [
       "'\\n!git clone --branch datarobot_1 https://github.com/interviewquery/takehomes.git\\n%cd takehomes/datarobot_1\\n!ls\\n'"
      ]
     },
     "execution_count": 1,
     "metadata": {},
     "output_type": "execute_result"
    }
   ],
   "source": [
    "'''\n",
    "!git clone --branch datarobot_1 https://github.com/interviewquery/takehomes.git\n",
    "%cd takehomes/datarobot_1\n",
    "!ls\n",
    "'''"
   ]
  },
  {
   "cell_type": "markdown",
   "id": "034acb38",
   "metadata": {},
   "source": [
    "# Load Packages"
   ]
  },
  {
   "cell_type": "code",
   "execution_count": 2,
   "id": "e1598428",
   "metadata": {},
   "outputs": [],
   "source": [
    "import numpy as np\n",
    "import pandas as pd\n",
    "import matplotlib.pyplot as plt\n",
    "import time \n",
    "\n",
    "from sklearn.preprocessing import StandardScaler\n",
    "from sklearn.preprocessing import OneHotEncoder\n",
    "from sklearn.model_selection import train_test_split\n",
    "from sklearn.model_selection import StratifiedKFold\n",
    "from sklearn.linear_model import LogisticRegression\n",
    "from sklearn.metrics import log_loss\n",
    "from sklearn.metrics import f1_score\n",
    "from sklearn.metrics import classification_report, confusion_matrix\n",
    "from sklearn.ensemble import GradientBoostingClassifier\n",
    "\n",
    "from sklearn.cluster import KMeans\n",
    "\n",
    "import nltk\n",
    "from nltk.sentiment.vader import SentimentIntensityAnalyzer\n",
    "from nltk.corpus import stopwords\n",
    "from nltk.tokenize import word_tokenize\n",
    "from nltk.stem import WordNetLemmatizer\n",
    "\n",
    "import tensorflow as tf\n",
    "from tensorflow import keras"
   ]
  },
  {
   "cell_type": "markdown",
   "id": "4e6faa4b",
   "metadata": {},
   "source": [
    "# Data Processing"
   ]
  },
  {
   "cell_type": "code",
   "execution_count": 3,
   "id": "72224b1d",
   "metadata": {},
   "outputs": [
    {
     "data": {
      "text/html": [
       "<div>\n",
       "<style scoped>\n",
       "    .dataframe tbody tr th:only-of-type {\n",
       "        vertical-align: middle;\n",
       "    }\n",
       "\n",
       "    .dataframe tbody tr th {\n",
       "        vertical-align: top;\n",
       "    }\n",
       "\n",
       "    .dataframe thead th {\n",
       "        text-align: right;\n",
       "    }\n",
       "</style>\n",
       "<table border=\"1\" class=\"dataframe\">\n",
       "  <thead>\n",
       "    <tr style=\"text-align: right;\">\n",
       "      <th></th>\n",
       "      <th>is_bad</th>\n",
       "      <th>emp_title</th>\n",
       "      <th>emp_length</th>\n",
       "      <th>home_ownership</th>\n",
       "      <th>annual_inc</th>\n",
       "      <th>verification_status</th>\n",
       "      <th>pymnt_plan</th>\n",
       "      <th>Notes</th>\n",
       "      <th>purpose_cat</th>\n",
       "      <th>purpose</th>\n",
       "      <th>...</th>\n",
       "      <th>mths_since_last_record</th>\n",
       "      <th>open_acc</th>\n",
       "      <th>pub_rec</th>\n",
       "      <th>revol_bal</th>\n",
       "      <th>revol_util</th>\n",
       "      <th>total_acc</th>\n",
       "      <th>initial_list_status</th>\n",
       "      <th>collections_12_mths_ex_med</th>\n",
       "      <th>mths_since_last_major_derog</th>\n",
       "      <th>policy_code</th>\n",
       "    </tr>\n",
       "  </thead>\n",
       "  <tbody>\n",
       "    <tr>\n",
       "      <th>0</th>\n",
       "      <td>0</td>\n",
       "      <td>Time Warner Cable</td>\n",
       "      <td>10</td>\n",
       "      <td>MORTGAGE</td>\n",
       "      <td>50000.0</td>\n",
       "      <td>not verified</td>\n",
       "      <td>n</td>\n",
       "      <td>NaN</td>\n",
       "      <td>medical</td>\n",
       "      <td>Medical</td>\n",
       "      <td>...</td>\n",
       "      <td>NaN</td>\n",
       "      <td>15.0</td>\n",
       "      <td>0.0</td>\n",
       "      <td>12087</td>\n",
       "      <td>12.1</td>\n",
       "      <td>44.0</td>\n",
       "      <td>f</td>\n",
       "      <td>0.0</td>\n",
       "      <td>1</td>\n",
       "      <td>PC4</td>\n",
       "    </tr>\n",
       "    <tr>\n",
       "      <th>1</th>\n",
       "      <td>0</td>\n",
       "      <td>Ottawa University</td>\n",
       "      <td>1</td>\n",
       "      <td>RENT</td>\n",
       "      <td>39216.0</td>\n",
       "      <td>not verified</td>\n",
       "      <td>n</td>\n",
       "      <td>Borrower added on 04/14/11 &gt; I will be using...</td>\n",
       "      <td>debt consolidation</td>\n",
       "      <td>My Debt Consolidation Loan</td>\n",
       "      <td>...</td>\n",
       "      <td>NaN</td>\n",
       "      <td>4.0</td>\n",
       "      <td>0.0</td>\n",
       "      <td>10114</td>\n",
       "      <td>64.0</td>\n",
       "      <td>5.0</td>\n",
       "      <td>f</td>\n",
       "      <td>0.0</td>\n",
       "      <td>2</td>\n",
       "      <td>PC1</td>\n",
       "    </tr>\n",
       "    <tr>\n",
       "      <th>2</th>\n",
       "      <td>0</td>\n",
       "      <td>Kennedy Wilson</td>\n",
       "      <td>4</td>\n",
       "      <td>RENT</td>\n",
       "      <td>65000.0</td>\n",
       "      <td>not verified</td>\n",
       "      <td>n</td>\n",
       "      <td>NaN</td>\n",
       "      <td>credit card</td>\n",
       "      <td>AP Personal Loan</td>\n",
       "      <td>...</td>\n",
       "      <td>NaN</td>\n",
       "      <td>4.0</td>\n",
       "      <td>0.0</td>\n",
       "      <td>81</td>\n",
       "      <td>0.6</td>\n",
       "      <td>8.0</td>\n",
       "      <td>f</td>\n",
       "      <td>0.0</td>\n",
       "      <td>3</td>\n",
       "      <td>PC4</td>\n",
       "    </tr>\n",
       "    <tr>\n",
       "      <th>3</th>\n",
       "      <td>0</td>\n",
       "      <td>TOWN OF PLATTEKILL</td>\n",
       "      <td>10</td>\n",
       "      <td>MORTGAGE</td>\n",
       "      <td>57500.0</td>\n",
       "      <td>not verified</td>\n",
       "      <td>n</td>\n",
       "      <td>NaN</td>\n",
       "      <td>debt consolidation</td>\n",
       "      <td>Debt Consolidation Loan</td>\n",
       "      <td>...</td>\n",
       "      <td>NaN</td>\n",
       "      <td>6.0</td>\n",
       "      <td>0.0</td>\n",
       "      <td>10030</td>\n",
       "      <td>37.1</td>\n",
       "      <td>23.0</td>\n",
       "      <td>f</td>\n",
       "      <td>0.0</td>\n",
       "      <td>2</td>\n",
       "      <td>PC2</td>\n",
       "    </tr>\n",
       "    <tr>\n",
       "      <th>4</th>\n",
       "      <td>0</td>\n",
       "      <td>Belmont Correctional</td>\n",
       "      <td>10</td>\n",
       "      <td>MORTGAGE</td>\n",
       "      <td>50004.0</td>\n",
       "      <td>VERIFIED - income</td>\n",
       "      <td>n</td>\n",
       "      <td>I want to consolidate my debt, pay for a vacat...</td>\n",
       "      <td>debt consolidation</td>\n",
       "      <td>consolidate</td>\n",
       "      <td>...</td>\n",
       "      <td>NaN</td>\n",
       "      <td>8.0</td>\n",
       "      <td>0.0</td>\n",
       "      <td>10740</td>\n",
       "      <td>40.4</td>\n",
       "      <td>21.0</td>\n",
       "      <td>f</td>\n",
       "      <td>0.0</td>\n",
       "      <td>3</td>\n",
       "      <td>PC3</td>\n",
       "    </tr>\n",
       "  </tbody>\n",
       "</table>\n",
       "<p>5 rows × 27 columns</p>\n",
       "</div>"
      ],
      "text/plain": [
       "   is_bad             emp_title emp_length home_ownership  annual_inc  \\\n",
       "0       0     Time Warner Cable         10       MORTGAGE     50000.0   \n",
       "1       0     Ottawa University          1           RENT     39216.0   \n",
       "2       0        Kennedy Wilson          4           RENT     65000.0   \n",
       "3       0    TOWN OF PLATTEKILL         10       MORTGAGE     57500.0   \n",
       "4       0  Belmont Correctional         10       MORTGAGE     50004.0   \n",
       "\n",
       "  verification_status pymnt_plan  \\\n",
       "0        not verified          n   \n",
       "1        not verified          n   \n",
       "2        not verified          n   \n",
       "3        not verified          n   \n",
       "4   VERIFIED - income          n   \n",
       "\n",
       "                                               Notes         purpose_cat  \\\n",
       "0                                                NaN             medical   \n",
       "1    Borrower added on 04/14/11 > I will be using...  debt consolidation   \n",
       "2                                                NaN         credit card   \n",
       "3                                                NaN  debt consolidation   \n",
       "4  I want to consolidate my debt, pay for a vacat...  debt consolidation   \n",
       "\n",
       "                      purpose  ... mths_since_last_record open_acc  pub_rec  \\\n",
       "0                     Medical  ...                    NaN     15.0      0.0   \n",
       "1  My Debt Consolidation Loan  ...                    NaN      4.0      0.0   \n",
       "2            AP Personal Loan  ...                    NaN      4.0      0.0   \n",
       "3     Debt Consolidation Loan  ...                    NaN      6.0      0.0   \n",
       "4                 consolidate  ...                    NaN      8.0      0.0   \n",
       "\n",
       "   revol_bal revol_util  total_acc  initial_list_status  \\\n",
       "0      12087       12.1       44.0                    f   \n",
       "1      10114       64.0        5.0                    f   \n",
       "2         81        0.6        8.0                    f   \n",
       "3      10030       37.1       23.0                    f   \n",
       "4      10740       40.4       21.0                    f   \n",
       "\n",
       "   collections_12_mths_ex_med  mths_since_last_major_derog  policy_code  \n",
       "0                         0.0                            1          PC4  \n",
       "1                         0.0                            2          PC1  \n",
       "2                         0.0                            3          PC4  \n",
       "3                         0.0                            2          PC2  \n",
       "4                         0.0                            3          PC3  \n",
       "\n",
       "[5 rows x 27 columns]"
      ]
     },
     "execution_count": 3,
     "metadata": {},
     "output_type": "execute_result"
    }
   ],
   "source": [
    "# Load csv\n",
    "df_raw = pd.read_csv('dataset.csv')\n",
    "\n",
    "# Drop the 'id' column as it's redundant to the table indices\n",
    "df_raw.drop(['Id'],axis=1,inplace=True)\n",
    "\n",
    "# Check the dataframe\n",
    "df_raw.head()"
   ]
  },
  {
   "cell_type": "markdown",
   "id": "c20a9ddb",
   "metadata": {},
   "source": [
    "First thing that I want to do is to apply clustering on some categorical features so that we don't end up with too many columns when we apply ```OneHotEncoder``` later on.\n",
    "\n",
    "The categorical columns to work on are: \n",
    "- ```'zip_code'```\n",
    "- ```'addr_state'```\n",
    "- ```'purpose_cat'```\n",
    "- ```'purpose'```\n",
    "- ```'emp_title'```\n",
    "- ```'Notes'```"
   ]
  },
  {
   "cell_type": "markdown",
   "id": "0661fd28",
   "metadata": {},
   "source": [
    "### ```'zip_code'``` and ```'addr_state'```"
   ]
  },
  {
   "cell_type": "markdown",
   "id": "0ea6eeb6",
   "metadata": {},
   "source": [
    "Let's deal with the easy ones. First, check for null values"
   ]
  },
  {
   "cell_type": "code",
   "execution_count": 4,
   "id": "fdae2139",
   "metadata": {},
   "outputs": [
    {
     "name": "stdout",
     "output_type": "stream",
     "text": [
      "0\n",
      "0\n"
     ]
    }
   ],
   "source": [
    "print(df_raw['addr_state'].isnull().sum())\n",
    "print(df_raw['zip_code'].isnull().sum())"
   ]
  },
  {
   "cell_type": "markdown",
   "id": "aa633bc5",
   "metadata": {},
   "source": [
    "No null values, which is good. "
   ]
  },
  {
   "attachments": {
    "ZIP-Code-Map-768x473.png": {
     "image/png": "[encoded data removed]"
    }
   },
   "cell_type": "markdown",
   "id": "5fa14cab",
   "metadata": {},
   "source": [
    "Now, there are many ways that we can roll with since these two columns contain similar yet slightly different data. For this work, I will just delete the ```'addr_state'``` column because I'm assuming the location can be well determined using the ```'zip_code'``` information. Moreover, I will cluster ```'zip_code'``` based on their first digit. \n",
    "![ZIP-Code-Map-768x473.png](attachment:ZIP-Code-Map-768x473.png)\n",
    "Image from https://facts.usps.com/42000-zip-codes/"
   ]
  },
  {
   "cell_type": "code",
   "execution_count": 5,
   "id": "3b58150c",
   "metadata": {},
   "outputs": [],
   "source": [
    "# Drop the 'addr_state' column as it's redundant to the 'zip_code' column \n",
    "df_raw.drop(['addr_state'],axis=1,inplace=True)"
   ]
  },
  {
   "cell_type": "code",
   "execution_count": 6,
   "id": "9f7bc32b",
   "metadata": {},
   "outputs": [],
   "source": [
    "# Change the 'zip_code' column into 'zip_code_first_digit'\n",
    "# But make sure to keep it a string because it should be categorical feature\n",
    "df_raw['zip_code'] = df_raw['zip_code'].apply(lambda x: x[0])\n",
    "df_raw = df_raw.rename(columns={'zip_code': 'zip_code_first_digit'})"
   ]
  },
  {
   "cell_type": "markdown",
   "id": "574e28cb",
   "metadata": {},
   "source": [
    "Note that this clustering is very coarse and can be improved with additional domain insight."
   ]
  },
  {
   "cell_type": "markdown",
   "id": "08ad401a",
   "metadata": {},
   "source": [
    "### ```'purpose'``` and ```'purpose_cat'```"
   ]
  },
  {
   "cell_type": "markdown",
   "id": "5bf6cb8f",
   "metadata": {},
   "source": [
    "Similar thought process here. These two columns contain redundant information. And since we want a coarser categorization to apply ```OneHotEncoder``` later, on, we'll just delete the ```'purpose'``` column and work with ```'purpose_cat'```."
   ]
  },
  {
   "cell_type": "code",
   "execution_count": 7,
   "id": "2ea92cfc",
   "metadata": {},
   "outputs": [],
   "source": [
    "# Drop the 'purpose' column as it's redundant to the 'purpose_cat' column \n",
    "df_raw.drop(['purpose'],axis=1,inplace=True)"
   ]
  },
  {
   "cell_type": "markdown",
   "id": "e8297ff6",
   "metadata": {},
   "source": [
    "Check for null values on ```'purpose_cat'``` column."
   ]
  },
  {
   "cell_type": "code",
   "execution_count": 8,
   "id": "0a205a98",
   "metadata": {},
   "outputs": [
    {
     "data": {
      "text/plain": [
       "0"
      ]
     },
     "execution_count": 8,
     "metadata": {},
     "output_type": "execute_result"
    }
   ],
   "source": [
    "df_raw['purpose_cat'].isnull().sum()"
   ]
  },
  {
   "cell_type": "markdown",
   "id": "b8488f5b",
   "metadata": {},
   "source": [
    "Good! Now let's look at distinct values. "
   ]
  },
  {
   "cell_type": "code",
   "execution_count": 9,
   "id": "4db59d57",
   "metadata": {},
   "outputs": [
    {
     "name": "stdout",
     "output_type": "stream",
     "text": [
      "['medical' 'debt consolidation' 'credit card' 'other' 'car' 'wedding'\n",
      " 'other small business' 'house' 'small business' 'educational'\n",
      " 'major purchase' 'home improvement' 'vacation'\n",
      " 'debt consolidation small business' 'moving' 'credit card small business'\n",
      " 'wedding small business' 'small business small business'\n",
      " 'home improvement small business' 'major purchase small business'\n",
      " 'educational small business' 'house small business' 'renewable energy'\n",
      " 'moving small business' 'medical small business'\n",
      " 'vacation small business' 'car small business']\n",
      "There are 27 unique purpose categories\n"
     ]
    }
   ],
   "source": [
    "print(df_raw['purpose_cat'].unique())\n",
    "print(f'There are {len(df_raw[\"purpose_cat\"].unique())} unique purpose categories')"
   ]
  },
  {
   "cell_type": "markdown",
   "id": "d666899c",
   "metadata": {},
   "source": [
    "Of course, it's possible to cluster these purposes into coarser categories (```small business```, ```home```, etc) manually. But to automate the process, I want to use ```Word2Vec``` and apply K-means clustering on the resulting vectors. "
   ]
  },
  {
   "cell_type": "markdown",
   "id": "a5131c56",
   "metadata": {},
   "source": [
    "Considering that we don't have enough data to train a ```Word2Vec``` model from our data, we will use a pre-trained gloVe model. \n",
    "https://github.com/RaRe-Technologies/gensim-data"
   ]
  },
  {
   "cell_type": "code",
   "execution_count": 10,
   "id": "ea3f415e",
   "metadata": {},
   "outputs": [],
   "source": [
    "import gensim.downloader as api\n",
    "\n",
    "info = api.info()  # show info about available models/datasets\n",
    "glove = api.load(\"glove-twitter-25\")  # download the model and return as object ready for use"
   ]
  },
  {
   "cell_type": "markdown",
   "id": "875282a7",
   "metadata": {},
   "source": [
    "One issue that we see is that long phrases like ```'educational small business'``` is not in the model vocabulary. One way to bypass that is to to have an averaged vector for each category. \n",
    "\n",
    "For example, the vector value for ```'educational small business'``` would be something like  ```np.avg([glove['educational'], glove['small'], glove['business']])```"
   ]
  },
  {
   "cell_type": "code",
   "execution_count": 11,
   "id": "55975dc5",
   "metadata": {},
   "outputs": [],
   "source": [
    "# Save the result as a dictionary\n",
    "vec_dict = {}\n",
    "\n",
    "for purpose in df_raw['purpose_cat'].unique():\n",
    "    purpose_list = purpose.split()\n",
    "    vec_list = []\n",
    "    \n",
    "    for word in purpose_list:\n",
    "        vec_list += [glove[word]]\n",
    "\n",
    "    vec_dict[purpose] = {}\n",
    "    vec_dict[purpose]['vector'] = np.average(vec_list,axis=0)"
   ]
  },
  {
   "cell_type": "code",
   "execution_count": 12,
   "id": "c09636f2",
   "metadata": {},
   "outputs": [],
   "source": [
    "# Define the list of vectors \n",
    "vec_list = []\n",
    "for key, item in vec_dict.items():\n",
    "    vec_list += [item['vector']]"
   ]
  },
  {
   "cell_type": "markdown",
   "id": "c2829e9f",
   "metadata": {},
   "source": [
    "Let's do an elbow test to see what the best number of clusters is"
   ]
  },
  {
   "cell_type": "code",
   "execution_count": 13,
   "id": "1f44c362",
   "metadata": {},
   "outputs": [
    {
     "data": {
      "image/png": "[encoded data removed]",
      "text/plain": [
       "<Figure size 500x300 with 1 Axes>"
      ]
     },
     "metadata": {},
     "output_type": "display_data"
    }
   ],
   "source": [
    "# Elbow method\n",
    "sse = []\n",
    "for k in range(1, 11):\n",
    "    kmeans = KMeans(n_clusters=k, \n",
    "                    max_iter=10000,\n",
    "                    n_init='auto').fit(vec_list)\n",
    "    sse.append(kmeans.inertia_)\n",
    "\n",
    "plt.figure(figsize=(5,3))\n",
    "\n",
    "plt.plot(range(1, 11), sse)\n",
    "\n",
    "font = 16\n",
    "plt.xticks(size=font);\n",
    "plt.yticks(size=font);\n",
    "plt.xlabel('Number of clusters',size=font);\n",
    "plt.ylabel('Inertia',size=font);\n",
    "plt.title('Elbow Method',size=font)\n",
    "plt.show()"
   ]
  },
  {
   "cell_type": "markdown",
   "id": "75ccf26c",
   "metadata": {},
   "source": [
    "The position of elbow isn't quite straitforward, but I think 5 should do it."
   ]
  },
  {
   "cell_type": "code",
   "execution_count": 14,
   "id": "c7accf6d",
   "metadata": {
    "scrolled": true
   },
   "outputs": [],
   "source": [
    "# Train the Kmeans clusterer\n",
    "kmeans = KMeans(n_clusters=5,\n",
    "                max_iter=10000,\n",
    "                n_init='auto').fit(vec_list)\n",
    "\n",
    "# Add classification to 'vec_dict'\n",
    "for key, item in vec_dict.items():\n",
    "    vec_dict[key]['classification'] = kmeans.predict([vec_dict[key]['vector']])"
   ]
  },
  {
   "cell_type": "markdown",
   "id": "49f4bd14",
   "metadata": {},
   "source": [
    "Now that we have ```vec_dict```, let's update the ```'purpose_cat'``` column. "
   ]
  },
  {
   "cell_type": "code",
   "execution_count": 15,
   "id": "cb9cd010",
   "metadata": {},
   "outputs": [],
   "source": [
    "# Again, make sure to keep it string to keep this column categorical \n",
    "df_raw['purpose_cat'] = df_raw['purpose_cat'].apply(lambda x: str(vec_dict[x]['classification'][0]))"
   ]
  },
  {
   "cell_type": "code",
   "execution_count": 16,
   "id": "ac21c853",
   "metadata": {},
   "outputs": [
    {
     "data": {
      "text/plain": [
       "0       4\n",
       "1       4\n",
       "2       0\n",
       "3       4\n",
       "4       4\n",
       "       ..\n",
       "9995    3\n",
       "9996    4\n",
       "9997    4\n",
       "9998    0\n",
       "9999    0\n",
       "Name: purpose_cat, Length: 10000, dtype: object"
      ]
     },
     "execution_count": 16,
     "metadata": {},
     "output_type": "execute_result"
    }
   ],
   "source": [
    "df_raw['purpose_cat']"
   ]
  },
  {
   "cell_type": "markdown",
   "id": "1d7a43d2",
   "metadata": {},
   "source": [
    "### ```'Notes'```"
   ]
  },
  {
   "cell_type": "markdown",
   "id": "e3830a9d",
   "metadata": {},
   "source": [
    "To process the ```'Notes'``` column, we will use ```NLTK```'s ```VADER``` sentiment anlyzer. We'll use the ```compound``` polarity score to determine the sentiment for each note. \n",
    "\n",
    "The pre-processing (tokenization, removing stop words, and lemmatization) function is shown below. "
   ]
  },
  {
   "cell_type": "code",
   "execution_count": 17,
   "id": "336b4600",
   "metadata": {},
   "outputs": [],
   "source": [
    "def preprocess_text(text):\n",
    "    # Tokenize the text\n",
    "    tokens = word_tokenize(text.lower())\n",
    "\n",
    "    # Remove stop words\n",
    "    filtered_tokens = [token for token in tokens if token not in stopwords.words('english')]\n",
    "\n",
    "    # Lemmatize the tokens\n",
    "    lemmatizer = WordNetLemmatizer()\n",
    "    lemmatized_tokens = [lemmatizer.lemmatize(token) for token in filtered_tokens]\n",
    "\n",
    "    # Join the tokens back into a string\n",
    "    processed_text = ' '.join(lemmatized_tokens)\n",
    "\n",
    "    return processed_text"
   ]
  },
  {
   "cell_type": "markdown",
   "id": "1ff02773",
   "metadata": {},
   "source": [
    "Let's also initialize the sentiment analyzer."
   ]
  },
  {
   "cell_type": "code",
   "execution_count": 18,
   "id": "24032227",
   "metadata": {},
   "outputs": [],
   "source": [
    "analyzer = SentimentIntensityAnalyzer()"
   ]
  },
  {
   "cell_type": "markdown",
   "id": "b5a452ca",
   "metadata": {},
   "source": [
    "You can get a sentiment analysis of a piece of text as shown below. "
   ]
  },
  {
   "cell_type": "code",
   "execution_count": 19,
   "id": "2fca0aac",
   "metadata": {},
   "outputs": [
    {
     "data": {
      "text/plain": [
       "{'neg': 0.752, 'neu': 0.248, 'pos': 0.0, 'compound': -0.8442}"
      ]
     },
     "execution_count": 19,
     "metadata": {},
     "output_type": "execute_result"
    }
   ],
   "source": [
    "example_txt = \"I am a sick man, I am a spiteful man, I am an unattractive man.\"\n",
    "analyzer.polarity_scores(preprocess_text(example_txt))"
   ]
  },
  {
   "cell_type": "markdown",
   "id": "4df3cfd4",
   "metadata": {},
   "source": [
    "One thing to note for the ```'Notes'``` column is that there are significant number of empty columns. "
   ]
  },
  {
   "cell_type": "code",
   "execution_count": 20,
   "id": "ba6f427c",
   "metadata": {},
   "outputs": [
    {
     "data": {
      "text/plain": [
       "3167"
      ]
     },
     "execution_count": 20,
     "metadata": {},
     "output_type": "execute_result"
    }
   ],
   "source": [
    "df_raw['Notes'].isnull().sum()"
   ]
  },
  {
   "cell_type": "markdown",
   "id": "b12e0441",
   "metadata": {},
   "source": [
    "So our strategy will be to calculate the ```'compound'``` score for non-null entries first and fill the null entries with the mean of the non-null entries. Of course, different imputation strategies are possible. "
   ]
  },
  {
   "cell_type": "code",
   "execution_count": 21,
   "id": "7e9f4681",
   "metadata": {},
   "outputs": [],
   "source": [
    "# Apply polarity_scores function to non-null entries\n",
    "df_raw['Notes'] = df_raw['Notes'].apply(lambda x: np.nan if type(x)==float \n",
    "                                        else analyzer.polarity_scores(preprocess_text(x))['compound'])\n",
    "\n",
    "# Fill null entries\n",
    "df_raw['Notes'] = df_raw['Notes'].fillna(df_raw['Notes'].mean())\n",
    "\n",
    "# Change the column name\n",
    "df_raw = df_raw.rename(columns={'Notes': 'notes_sentiment_score'})"
   ]
  },
  {
   "cell_type": "markdown",
   "id": "b87fa993",
   "metadata": {},
   "source": [
    "Let's see the distribution of values of the new ```'notes_sentiment_score'``` column."
   ]
  },
  {
   "cell_type": "code",
   "execution_count": 22,
   "id": "9437079f",
   "metadata": {},
   "outputs": [
    {
     "name": "stdout",
     "output_type": "stream",
     "text": [
      "Mean value of 'notes_sentiment_score' column is: 0.51\n"
     ]
    }
   ],
   "source": [
    "print(f\"Mean value of 'notes_sentiment_score' column is: {df_raw['notes_sentiment_score'].mean():0.2f}\")"
   ]
  },
  {
   "cell_type": "code",
   "execution_count": 23,
   "id": "3ec66954",
   "metadata": {
    "scrolled": true
   },
   "outputs": [
    {
     "data": {
      "image/png": "[encoded data removed]",
      "text/plain": [
       "<Figure size 500x300 with 1 Axes>"
      ]
     },
     "metadata": {},
     "output_type": "display_data"
    }
   ],
   "source": [
    "plt.figure(figsize=(5,3))\n",
    "plt.hist(df_raw['notes_sentiment_score'],bins=15);\n",
    "\n",
    "font = 16\n",
    "plt.xlabel('notes_sentiment_score',size=font);\n",
    "plt.ylabel('Count',size=font);\n",
    "plt.xticks(np.arange(-1,1.1,0.5),size=font);\n",
    "plt.yticks(size=font);"
   ]
  },
  {
   "cell_type": "markdown",
   "id": "4374cfe4",
   "metadata": {},
   "source": [
    "We see that aside from the large peak around 0.5, which corresponds to the null entries with mean values assigned, the distribution is overall skewed to the right. This makes sense as the raw ```'Notes'``` entry seem to be written by the people applying for the loans, which wouldn't include any negative information that can harm their application. "
   ]
  },
  {
   "cell_type": "markdown",
   "id": "e3c8ec6a",
   "metadata": {},
   "source": [
    "### ```'emp_title'``` "
   ]
  },
  {
   "cell_type": "markdown",
   "id": "534fa0cb",
   "metadata": {},
   "source": [
    "For the ```'emp_title'``` column, I will simply drop it for a few reasons:\n",
    "- Unlike the ```'purpose_cat'``` in which the words were common noun, there can be specific name of companies, ```'meadwestvaco'``` for example, that probably will not be contained in gloVe's vocabulary. \n",
    "- I think it's reasonable to assume that the pertinent financial information will also be contained in different columns, such as `'annual_inc'`, `'debt-to-income'`, `'emp_length'`, etc.\n",
    "\n",
    "One could imagine using a more sophisticated NLP model to convert this column to numerical value and then into different categories, but I believe it to be overkill for this case. "
   ]
  },
  {
   "cell_type": "code",
   "execution_count": 24,
   "id": "912522cc",
   "metadata": {},
   "outputs": [],
   "source": [
    "df_raw.drop(['emp_title'],axis=1,inplace=True)"
   ]
  },
  {
   "cell_type": "markdown",
   "id": "55539215",
   "metadata": {},
   "source": [
    "# Check for Unique Entries"
   ]
  },
  {
   "cell_type": "code",
   "execution_count": 25,
   "id": "112e7c78",
   "metadata": {},
   "outputs": [
    {
     "name": "stdout",
     "output_type": "stream",
     "text": [
      "is_bad unique values: [0 1]\n",
      "\n",
      "emp_length unique values: ['10' '1' '4' '6' '2' '3' '5' '8' '7' '9' 'na' '22' '11' '33']\n",
      "\n",
      "home_ownership unique values: ['MORTGAGE' 'RENT' 'OWN' 'OTHER' 'NONE']\n",
      "\n",
      "annual_inc unique values: [50000. 39216. 65000. ... 66250. 47831. 70560.]\n",
      "\n",
      "verification_status unique values: ['not verified' 'VERIFIED - income' 'VERIFIED - income source']\n",
      "\n",
      "pymnt_plan unique values: ['n' 'y']\n",
      "\n",
      "notes_sentiment_score unique values: [ 0.50594588 -0.128      -0.3818     ...  0.4979      0.968\n",
      "  0.3365    ]\n",
      "\n",
      "purpose_cat unique values: ['4' '0' '2' '3' '1']\n",
      "\n",
      "zip_code_first_digit unique values: ['7' '6' '9' '1' '4' '2' '8' '3' '0' '5']\n",
      "\n",
      "debt_to_income unique values: [10.87  9.15 11.24 ...  1.93 24.74 24.13]\n",
      "\n",
      "delinq_2yrs unique values: [ 0.  1.  2.  4.  3.  7.  6.  5. 11. nan  8.]\n",
      "\n",
      "earliest_cr_line unique values: ['12/01/1992' '11/01/2005' '06/01/1970' '09/01/1982' '10/01/1999'\n",
      " '12/01/1999' '11/01/1979' '04/01/2006' '02/01/2001' '05/01/1995'\n",
      " '12/01/1990' '06/01/1993' '04/01/1996' '10/01/1996' '01/01/1993'\n",
      " '09/01/1993' '01/01/2003' '11/01/1999' '12/01/1996' '11/01/1997'\n",
      " '09/01/1994' '06/01/1995' '03/01/1987' '01/01/1999' '02/01/2000'\n",
      " '05/01/2000' '07/01/2005' '04/01/1994' '07/01/1995' '10/01/2001'\n",
      " '06/01/1997' '10/01/2000' '08/01/2003' '02/01/1996' '10/01/2004'\n",
      " '08/01/1998' '07/01/2001' '01/01/2004' '02/01/1995' '09/01/2001'\n",
      " '02/01/2007' '08/01/1997' '03/01/2000' '09/01/1992' '10/01/1995'\n",
      " '01/01/2000' '01/01/1987' '01/01/2001' '09/01/1984' '07/01/1986'\n",
      " '01/01/2006' '07/01/1980' '12/01/1998' '09/01/2004' '04/01/2000'\n",
      " '06/01/1976' '05/01/2004' '08/01/1999' '03/01/1981' '03/01/2001'\n",
      " '09/01/2002' '07/01/1997' '03/01/2005' '11/01/1995' '02/01/2006'\n",
      " '12/01/2002' '07/01/2007' '08/01/2002' '04/01/1984' '05/01/1988'\n",
      " '12/01/2003' '02/01/1997' '08/01/1995' '05/01/1998' '03/01/1982'\n",
      " '10/01/2005' '07/01/2002' '01/01/1989' '12/01/1995' '06/01/2001'\n",
      " '07/01/2006' '08/01/1991' '10/01/1992' '02/01/1983' '08/01/1990'\n",
      " '10/01/1990' '04/01/2004' '10/01/2006' '05/01/2001' '05/01/1997'\n",
      " '07/01/2000' '06/01/1996' '05/01/1978' '05/01/2003' '02/01/1998'\n",
      " '01/01/1994' '01/01/1996' '10/01/1970' '08/01/1987' '08/01/1985'\n",
      " '01/01/1988' '06/01/1985' '01/01/2005' '09/01/1999' '03/01/1999'\n",
      " '07/01/1991' '08/01/2000' '09/01/1986' '09/01/1990' '08/01/1984'\n",
      " '04/01/2005' '01/01/1995' '09/01/1985' '02/01/2002' '04/01/2002'\n",
      " '12/01/2000' '03/01/1997' '06/01/2000' '11/01/1994' '11/01/1984'\n",
      " '01/01/1997' '11/01/1983' '10/01/1986' '07/01/2004' '02/01/1970'\n",
      " '11/01/1998' '11/01/2000' '04/01/1993' '03/01/2006' '10/01/1994'\n",
      " '04/01/1997' '03/01/1986' '03/01/1994' '04/01/1971' '09/01/1989'\n",
      " '01/01/1998' '08/01/2001' '12/01/1989' '03/01/1998' '03/01/1990'\n",
      " '10/01/1998' '08/01/1979' '01/01/1991' '10/01/2003' '10/01/1993'\n",
      " '04/01/1990' '05/01/2005' '07/01/1987' '03/01/2004' '05/01/1992'\n",
      " '06/01/1994' '08/01/1992' '12/01/1994' '03/01/1970' '04/01/1982'\n",
      " '09/01/1996' '12/01/2001' '06/01/2003' '03/01/2003' '08/01/2005'\n",
      " '11/01/1996' '02/01/1994' '01/01/2007' '10/01/1991' '02/01/2005'\n",
      " '04/01/1999' '01/01/1992' '11/01/1993' '07/01/1998' '09/01/2003'\n",
      " '03/01/1992' '11/01/1990' '06/01/1998' '09/01/2006' '09/01/1997'\n",
      " '09/01/1972' '12/01/1987' '09/01/2000' '07/01/1992' '07/01/1996'\n",
      " '09/01/2005' '04/01/1995' '11/01/1988' '04/01/2007' '12/01/1997'\n",
      " '12/01/1982' '10/01/1997' '06/01/2004' '09/01/1980' '09/01/1995'\n",
      " '05/01/1999' '12/01/2005' '06/01/1991' '05/01/1996' '06/01/2006'\n",
      " '08/01/2004' '07/01/1990' '10/01/2002' '11/01/1986' '08/01/1982'\n",
      " '05/01/1994' '07/01/1994' '04/01/2001' '05/01/1993' '07/01/2003'\n",
      " '05/01/1984' '11/01/2001' '11/01/1991' '11/01/2003' '08/01/1994'\n",
      " '05/01/1974' '04/01/1991' '12/01/2004' '11/01/2002' '02/01/2008'\n",
      " '11/01/2008' '06/01/1987' '05/01/1991' '11/01/2004' '12/01/2006'\n",
      " '03/01/2008' '06/01/1981' '01/01/1984' '08/01/1996' '03/01/1995'\n",
      " '12/01/1986' '08/01/1989' '02/01/1992' '06/01/1999' '08/01/2007'\n",
      " '06/01/1986' '04/01/2008' '12/01/1993' '06/01/1982' '11/01/1985'\n",
      " '02/01/1993' '10/01/1982' '07/01/1999' '06/01/2007' '12/01/1988'\n",
      " '10/01/1989' '11/01/2006' '06/01/2005' '01/01/2002' '01/01/1986'\n",
      " '06/01/2002' '02/01/1989' '03/01/1974' '02/01/2003' '06/01/1984'\n",
      " '11/01/1989' '08/01/2006' '02/01/1990' '08/01/1977' '03/01/1973'\n",
      " '09/01/1991' '04/01/1988' '06/01/1966' '02/01/1985' '03/01/1996'\n",
      " '09/01/1962' '02/01/1982' '04/01/1998' '11/01/2007' '02/01/2004'\n",
      " '12/01/1974' '05/01/2007' '05/01/2006' '04/01/1989' '07/01/1977'\n",
      " '04/01/1983' '06/01/1990' '02/01/1991' '02/01/1999' '10/01/1971'\n",
      " '10/01/1979' '01/01/1990' '09/01/2007' '09/01/1998' '05/01/1990'\n",
      " '04/01/1981' '06/01/1978' '03/01/1989' '06/01/1988' '05/01/1987'\n",
      " '11/01/1992' '06/01/1992' '12/01/1973' '08/01/1993' '12/01/1977'\n",
      " '04/01/2003' '03/01/2007' '09/01/1988' '02/01/1988' '10/01/1977'\n",
      " '03/01/1979' '03/01/2002' '10/01/1987' '07/01/1993' '05/01/2002'\n",
      " '08/01/1988' '03/01/1984' '02/01/1986' '01/01/1985' '09/01/1981'\n",
      " '03/01/1983' '04/01/1985' '05/01/1979' '04/01/1992' '07/01/1989'\n",
      " '08/01/1980' '09/01/1979' '07/01/1978' '10/01/1984' '05/01/2008'\n",
      " '04/01/1986' '07/01/1982' '06/01/2008' '01/01/1979' '05/01/1980'\n",
      " '12/01/1978' '05/01/1983' '03/01/1985' '09/01/1978' '07/01/1985'\n",
      " '07/01/1970' '10/01/2007' '03/01/1993' '02/01/1987' '12/01/1984'\n",
      " '03/01/1978' '03/01/1975' '08/01/1969' '07/01/1988' '10/01/1988'\n",
      " '04/01/1976' '10/01/1983' '05/01/1976' '08/01/1978' '06/01/1980'\n",
      " '12/01/1983' '09/01/1976' '06/01/1977' '11/01/1978' '03/01/1991'\n",
      " '05/01/1982' '10/01/1985' '04/01/1987' '02/01/1984' '07/01/1983'\n",
      " '08/01/1986' '09/01/1987' '12/01/1980' '01/01/1981' '12/01/1976'\n",
      " '01/01/1980' '10/01/1981' '12/01/2007' '01/01/1968' '12/01/1985'\n",
      " '05/01/1989' '07/01/1975' '06/01/1989' '11/01/1975' '01/01/2008'\n",
      " '01/01/1973' '11/01/1976' '08/01/1981' '09/01/1983' '11/01/1987'\n",
      " '07/01/1984' '10/01/1980' '08/01/1973' '01/01/1982' '01/01/1972'\n",
      " '02/01/1976' '02/01/1981' '06/01/1971' '12/01/1991' '06/01/1974'\n",
      " '05/01/1975' '08/01/1976' '08/01/1983' '03/01/1969' '06/01/1983'\n",
      " '09/01/1967' '07/01/1973' '06/01/1969' '03/01/1988' '03/01/1977'\n",
      " '12/01/1979' '11/01/1969' '04/01/1979' '08/01/1974' '05/01/1965'\n",
      " '05/01/1985' '10/01/1976' '10/01/1964' '09/01/1968' '09/01/1969'\n",
      " '02/01/1979' '01/01/1977' '08/01/1968' '03/01/1972' '05/01/1973' nan\n",
      " '04/01/1975' '07/01/1967' '01/01/1983' '04/01/1977' '04/01/1967'\n",
      " '04/01/1978' '12/01/1968' '11/01/1967' '08/01/2008' '12/01/1950'\n",
      " '08/01/1970' '11/01/1982' '09/01/1964' '06/01/1959' '05/01/1981'\n",
      " '06/01/1967' '05/01/1977' '11/01/1971' '12/01/1975' '12/01/1972'\n",
      " '07/01/1976' '05/01/1986' '09/01/1973' '11/01/1981' '12/01/1970'\n",
      " '10/01/1972' '09/01/1970' '05/01/1970' '01/01/1975' '07/01/1972'\n",
      " '09/01/1963' '01/01/1978' '03/01/1980' '10/01/1973' '09/01/1956'\n",
      " '09/01/2008' '02/01/1980' '07/01/1974' '07/01/1979' '06/01/1979'\n",
      " '03/01/1971' '01/01/1963' '11/01/1977' '05/01/1969' '12/01/1966'\n",
      " '10/01/1978' '12/01/1981' '09/01/1965' '09/01/1977' '02/01/1974'\n",
      " '02/01/1975' '01/01/1976' '08/01/1975' '06/01/1973' '07/01/1981'\n",
      " '02/01/1971' '07/01/1971' '07/01/2008']\n",
      "\n",
      "inq_last_6mths unique values: [ 0.  2.  4.  1.  3.  6.  8.  5.  7. 16.  9. 18. 10. nan 25. 11. 17. 15.\n",
      " 24. 14. 12.]\n",
      "\n",
      "mths_since_last_delinq unique values: [ nan  16.  19.  13.  34.  49.  32.  67.  48.  58.  52.  39.  60.  62.\n",
      "  64.   4.  63.  27.  15.  11.  26.   9.  23.  31.  55.  17.  42.  44.\n",
      "  78.  38.  54.  41.  43.  28.  56.   6.  37.   5.  36.  81.  47.  18.\n",
      "  82.  79.  69.  22.  76.  24.  73.   0.  29.  33.  61.  12.   3.   8.\n",
      "  72.  70.  20.  68.  59.  80.  30.  46.  21.  14.  25.  10.  66.  57.\n",
      "  35.  65.  53.  71.  51.   2.  50.   7.  45.  74.  77.  75. 115.   1.\n",
      "  40.  97.  95.  83.  85. 120.  89.  96.]\n",
      "\n",
      "mths_since_last_record unique values: [ nan  27.  92.   0.  88.  98. 113. 110.  87.  93. 101.  77.  63.  38.\n",
      " 116.  56.  95.  68.  96.  72. 100.  85. 102. 104. 107.  91.  89.  53.\n",
      "  43.  59.  41.  94. 112. 103. 115. 111.  47.  90.  86. 109.  48. 114.\n",
      "  20. 108. 106.  50.  67.  99.  81.  74.  49.  30. 105.  66.  71.  45.\n",
      " 118.  44.  25.  62.  82.  58. 117.  78.  51.   6.  76. 119.  80.  55.\n",
      "  22.  40.  97.  61.  26.  29.  73.  46.  65.  31.  60.  33.  57.  17.\n",
      "  70.  36.  52.  54.  75.  69.  11.  39.  28.  64.  24.]\n",
      "\n",
      "open_acc unique values: [15.  4.  6.  8. 18.  9. 11. 10. 12.  3. 13.  5. 16.  2. 14.  7. 25. 19.\n",
      " 30. 17. 20. 26. 21. 29. 24. 22. 23. 28. 36.  1. 39. 33. 35. 27. nan 31.\n",
      " 32.]\n",
      "\n",
      "pub_rec unique values: [ 0.  1.  2.  3. nan]\n",
      "\n",
      "revol_bal unique values: [12087 10114    81 ... 11346 17157  2304]\n",
      "\n",
      "revol_util unique values: [1.210e+01 6.400e+01 6.000e-01 ... 3.688e+01 3.000e-02 1.006e+02]\n",
      "\n",
      "total_acc unique values: [44.  5.  8. 23. 21. 25. 29. 10. 27. 18. 24. 37. 19.  9. 36. 54. 20. 26.\n",
      "  7. 22. 13. 12. 16. 43. 38. 49. 15. 31. 11.  3. 32. 28. 30. 56. 39. 17.\n",
      " 35. 34.  6. 62. 14. 53. 33. 41. 61. 46.  4. 50. 47. 55. 42. 63. 52. 40.\n",
      " 66. 57. 48. 45.  1. 51.  2. 60. 67. 90. 58. nan 78. 59. 77. 76. 80. 64.\n",
      " 70. 79. 69. 81.]\n",
      "\n",
      "initial_list_status unique values: ['f' 'm']\n",
      "\n",
      "collections_12_mths_ex_med unique values: [ 0. nan]\n",
      "\n",
      "mths_since_last_major_derog unique values: [1 2 3]\n",
      "\n",
      "policy_code unique values: ['PC4' 'PC1' 'PC2' 'PC3' 'PC5']\n",
      "\n"
     ]
    }
   ],
   "source": [
    "for col in df_raw.columns:\n",
    "    print(f'{col} unique values: {df_raw[col].unique()}')\n",
    "    print()"
   ]
  },
  {
   "cell_type": "markdown",
   "id": "6888f035",
   "metadata": {},
   "source": [
    "Now we see that there are manageable number of categorical features (<10) that will not make the data too sparse. Now let's work on imputing the null entries of the data. "
   ]
  },
  {
   "cell_type": "markdown",
   "id": "b67c52f0",
   "metadata": {},
   "source": [
    "# Dealing with Missing Values"
   ]
  },
  {
   "cell_type": "markdown",
   "id": "65736f11",
   "metadata": {},
   "source": [
    "First, we check the number of null values for each column."
   ]
  },
  {
   "cell_type": "code",
   "execution_count": 26,
   "id": "c5d088bb",
   "metadata": {
    "scrolled": true
   },
   "outputs": [
    {
     "data": {
      "text/plain": [
       "is_bad                            0\n",
       "emp_length                        0\n",
       "home_ownership                    0\n",
       "annual_inc                        1\n",
       "verification_status               0\n",
       "pymnt_plan                        0\n",
       "notes_sentiment_score             0\n",
       "purpose_cat                       0\n",
       "zip_code_first_digit              0\n",
       "debt_to_income                    0\n",
       "delinq_2yrs                       5\n",
       "earliest_cr_line                  5\n",
       "inq_last_6mths                    5\n",
       "mths_since_last_delinq         6316\n",
       "mths_since_last_record         9160\n",
       "open_acc                          5\n",
       "pub_rec                           5\n",
       "revol_bal                         0\n",
       "revol_util                       26\n",
       "total_acc                         5\n",
       "initial_list_status               0\n",
       "collections_12_mths_ex_med       32\n",
       "mths_since_last_major_derog       0\n",
       "policy_code                       0\n",
       "dtype: int64"
      ]
     },
     "execution_count": 26,
     "metadata": {},
     "output_type": "execute_result"
    }
   ],
   "source": [
    "df_raw.isnull().sum()"
   ]
  },
  {
   "cell_type": "markdown",
   "id": "af6b1cac",
   "metadata": {},
   "source": [
    "We see that there are more than 5000 null entries for columns ```mths_since_last_delinq``` (Months since last delinquency) and ```mths_since_last_record``` (Months since last record)"
   ]
  },
  {
   "cell_type": "markdown",
   "id": "17fc19b7",
   "metadata": {},
   "source": [
    "Assuming that null values on these columns mean that the person either has no delinquency or record, I think it'll be reasonable to change the null values to the max value for that column"
   ]
  },
  {
   "cell_type": "code",
   "execution_count": 27,
   "id": "f6862b24",
   "metadata": {},
   "outputs": [],
   "source": [
    "# Fill the null values for 'mths_since_last_delinq' and 'mths_since_last_record' columns\n",
    "df_raw[\"mths_since_last_delinq\"].fillna(df_raw['mths_since_last_delinq'].max(), inplace = True)\n",
    "df_raw[\"mths_since_last_record\"].fillna(df_raw['mths_since_last_record'].max(), inplace = True)"
   ]
  },
  {
   "cell_type": "markdown",
   "id": "64333c34",
   "metadata": {},
   "source": [
    "For the rest, drop the rows with null entries as they're only about 6% of the dataset"
   ]
  },
  {
   "cell_type": "code",
   "execution_count": 28,
   "id": "fe932584",
   "metadata": {},
   "outputs": [],
   "source": [
    "df_raw.dropna(inplace=True)"
   ]
  },
  {
   "cell_type": "markdown",
   "id": "e9e6705c",
   "metadata": {},
   "source": [
    "Check for null values again"
   ]
  },
  {
   "cell_type": "code",
   "execution_count": 29,
   "id": "679b0036",
   "metadata": {},
   "outputs": [
    {
     "data": {
      "text/plain": [
       "is_bad                         0\n",
       "emp_length                     0\n",
       "home_ownership                 0\n",
       "annual_inc                     0\n",
       "verification_status            0\n",
       "pymnt_plan                     0\n",
       "notes_sentiment_score          0\n",
       "purpose_cat                    0\n",
       "zip_code_first_digit           0\n",
       "debt_to_income                 0\n",
       "delinq_2yrs                    0\n",
       "earliest_cr_line               0\n",
       "inq_last_6mths                 0\n",
       "mths_since_last_delinq         0\n",
       "mths_since_last_record         0\n",
       "open_acc                       0\n",
       "pub_rec                        0\n",
       "revol_bal                      0\n",
       "revol_util                     0\n",
       "total_acc                      0\n",
       "initial_list_status            0\n",
       "collections_12_mths_ex_med     0\n",
       "mths_since_last_major_derog    0\n",
       "policy_code                    0\n",
       "dtype: int64"
      ]
     },
     "execution_count": 29,
     "metadata": {},
     "output_type": "execute_result"
    }
   ],
   "source": [
    "df_raw.isnull().sum()"
   ]
  },
  {
   "cell_type": "markdown",
   "id": "94248e0b",
   "metadata": {},
   "source": [
    "Good to go! Let's look through the data one last time before we wrap up data pre-processing."
   ]
  },
  {
   "cell_type": "markdown",
   "id": "19870262",
   "metadata": {},
   "source": [
    "### Miscellaneous"
   ]
  },
  {
   "cell_type": "markdown",
   "id": "1aa2fec9",
   "metadata": {},
   "source": [
    "I want to check for unique values for each column"
   ]
  },
  {
   "cell_type": "code",
   "execution_count": 30,
   "id": "53a46da6",
   "metadata": {},
   "outputs": [
    {
     "name": "stdout",
     "output_type": "stream",
     "text": [
      "is_bad unique values: [0 1]\n",
      "\n",
      "emp_length unique values: ['10' '1' '4' '6' '2' '3' '5' '8' '7' '9' 'na' '22' '11' '33']\n",
      "\n",
      "home_ownership unique values: ['MORTGAGE' 'RENT' 'OWN' 'OTHER']\n",
      "\n",
      "annual_inc unique values: [50000. 39216. 65000. ... 66250. 47831. 70560.]\n",
      "\n",
      "verification_status unique values: ['not verified' 'VERIFIED - income' 'VERIFIED - income source']\n",
      "\n",
      "pymnt_plan unique values: ['n' 'y']\n",
      "\n",
      "notes_sentiment_score unique values: [ 0.50594588 -0.128      -0.3818     ...  0.4979      0.968\n",
      "  0.3365    ]\n",
      "\n",
      "purpose_cat unique values: ['4' '0' '2' '3' '1']\n",
      "\n",
      "zip_code_first_digit unique values: ['7' '6' '9' '1' '4' '2' '8' '3' '0' '5']\n",
      "\n",
      "debt_to_income unique values: [10.87  9.15 11.24 ...  1.93 24.74 24.13]\n",
      "\n",
      "delinq_2yrs unique values: [ 0.  1.  2.  4.  3.  7.  6.  5. 11.  8.]\n",
      "\n",
      "earliest_cr_line unique values: ['12/01/1992' '11/01/2005' '06/01/1970' '09/01/1982' '10/01/1999'\n",
      " '12/01/1999' '11/01/1979' '04/01/2006' '02/01/2001' '05/01/1995'\n",
      " '12/01/1990' '06/01/1993' '04/01/1996' '10/01/1996' '01/01/1993'\n",
      " '09/01/1993' '01/01/2003' '11/01/1999' '12/01/1996' '11/01/1997'\n",
      " '09/01/1994' '06/01/1995' '03/01/1987' '01/01/1999' '02/01/2000'\n",
      " '05/01/2000' '07/01/2005' '04/01/1994' '07/01/1995' '10/01/2001'\n",
      " '06/01/1997' '10/01/2000' '08/01/2003' '02/01/1996' '10/01/2004'\n",
      " '08/01/1998' '07/01/2001' '01/01/2004' '02/01/1995' '09/01/2001'\n",
      " '02/01/2007' '08/01/1997' '03/01/2000' '09/01/1992' '10/01/1995'\n",
      " '01/01/2000' '01/01/1987' '01/01/2001' '09/01/1984' '07/01/1986'\n",
      " '01/01/2006' '07/01/1980' '12/01/1998' '09/01/2004' '04/01/2000'\n",
      " '06/01/1976' '05/01/2004' '08/01/1999' '03/01/1981' '03/01/2001'\n",
      " '09/01/2002' '07/01/1997' '03/01/2005' '11/01/1995' '02/01/2006'\n",
      " '12/01/2002' '07/01/2007' '08/01/2002' '04/01/1984' '05/01/1988'\n",
      " '12/01/2003' '02/01/1997' '08/01/1995' '05/01/1998' '03/01/1982'\n",
      " '10/01/2005' '07/01/2002' '01/01/1989' '12/01/1995' '06/01/2001'\n",
      " '07/01/2006' '08/01/1991' '10/01/1992' '02/01/1983' '08/01/1990'\n",
      " '10/01/1990' '04/01/2004' '10/01/2006' '05/01/2001' '05/01/1997'\n",
      " '07/01/2000' '06/01/1996' '05/01/1978' '05/01/2003' '02/01/1998'\n",
      " '01/01/1994' '01/01/1996' '10/01/1970' '08/01/1987' '08/01/1985'\n",
      " '01/01/1988' '06/01/1985' '01/01/2005' '09/01/1999' '03/01/1999'\n",
      " '07/01/1991' '08/01/2000' '09/01/1986' '09/01/1990' '08/01/1984'\n",
      " '04/01/2005' '01/01/1995' '09/01/1985' '02/01/2002' '04/01/2002'\n",
      " '12/01/2000' '03/01/1997' '06/01/2000' '11/01/1994' '11/01/1984'\n",
      " '01/01/1997' '11/01/1983' '10/01/1986' '07/01/2004' '02/01/1970'\n",
      " '11/01/1998' '11/01/2000' '04/01/1993' '03/01/2006' '10/01/1994'\n",
      " '04/01/1997' '03/01/1986' '03/01/1994' '04/01/1971' '09/01/1989'\n",
      " '01/01/1998' '08/01/2001' '12/01/1989' '03/01/1998' '03/01/1990'\n",
      " '10/01/1998' '08/01/1979' '01/01/1991' '10/01/2003' '10/01/1993'\n",
      " '04/01/1990' '05/01/2005' '07/01/1987' '03/01/2004' '05/01/1992'\n",
      " '06/01/1994' '08/01/1992' '12/01/1994' '03/01/1970' '04/01/1982'\n",
      " '09/01/1996' '12/01/2001' '06/01/2003' '03/01/2003' '11/01/1996'\n",
      " '02/01/1994' '01/01/2007' '10/01/1991' '02/01/2005' '04/01/1999'\n",
      " '01/01/1992' '11/01/1993' '07/01/1998' '09/01/2003' '03/01/1992'\n",
      " '11/01/1990' '06/01/1998' '09/01/2006' '09/01/1997' '09/01/1972'\n",
      " '12/01/1987' '09/01/2000' '08/01/2005' '07/01/1992' '07/01/1996'\n",
      " '09/01/2005' '04/01/1995' '11/01/1988' '04/01/2007' '12/01/1997'\n",
      " '12/01/1982' '10/01/1997' '06/01/2004' '09/01/1980' '09/01/1995'\n",
      " '05/01/1999' '12/01/2005' '06/01/1991' '05/01/1996' '06/01/2006'\n",
      " '08/01/2004' '07/01/1990' '10/01/2002' '11/01/1986' '08/01/1982'\n",
      " '05/01/1994' '07/01/1994' '04/01/2001' '05/01/1993' '07/01/2003'\n",
      " '05/01/1984' '11/01/2001' '11/01/1991' '11/01/2003' '08/01/1994'\n",
      " '05/01/1974' '04/01/1991' '12/01/2004' '11/01/2002' '02/01/2008'\n",
      " '11/01/2008' '06/01/1987' '05/01/1991' '11/01/2004' '12/01/2006'\n",
      " '03/01/2008' '06/01/1981' '01/01/1984' '08/01/1996' '03/01/1995'\n",
      " '12/01/1986' '08/01/1989' '02/01/1992' '06/01/1999' '08/01/2007'\n",
      " '06/01/1986' '04/01/2008' '12/01/1993' '06/01/1982' '11/01/1985'\n",
      " '02/01/1993' '10/01/1982' '07/01/1999' '06/01/2007' '12/01/1988'\n",
      " '10/01/1989' '11/01/2006' '06/01/2005' '01/01/2002' '01/01/1986'\n",
      " '06/01/2002' '02/01/1989' '03/01/1974' '02/01/2003' '06/01/1984'\n",
      " '11/01/1989' '08/01/2006' '02/01/1990' '08/01/1977' '03/01/1973'\n",
      " '09/01/1991' '04/01/1988' '06/01/1966' '02/01/1985' '03/01/1996'\n",
      " '09/01/1962' '02/01/1982' '04/01/1998' '11/01/2007' '02/01/2004'\n",
      " '12/01/1974' '05/01/2007' '05/01/2006' '04/01/1989' '07/01/1977'\n",
      " '04/01/1983' '06/01/1990' '02/01/1991' '02/01/1999' '10/01/1971'\n",
      " '10/01/1979' '01/01/1990' '09/01/2007' '09/01/1998' '05/01/1990'\n",
      " '04/01/1981' '06/01/1978' '03/01/1989' '06/01/1988' '05/01/1987'\n",
      " '11/01/1992' '06/01/1992' '12/01/1973' '08/01/1993' '12/01/1977'\n",
      " '04/01/2003' '03/01/2007' '09/01/1988' '02/01/1988' '10/01/1977'\n",
      " '03/01/1979' '03/01/2002' '10/01/1987' '07/01/1993' '05/01/2002'\n",
      " '08/01/1988' '03/01/1984' '02/01/1986' '01/01/1985' '09/01/1981'\n",
      " '03/01/1983' '04/01/1985' '05/01/1979' '04/01/1992' '07/01/1989'\n",
      " '08/01/1980' '09/01/1979' '07/01/1978' '10/01/1984' '05/01/2008'\n",
      " '04/01/1986' '07/01/1982' '06/01/2008' '01/01/1979' '05/01/1980'\n",
      " '12/01/1978' '05/01/1983' '03/01/1985' '09/01/1978' '07/01/1985'\n",
      " '07/01/1970' '10/01/2007' '03/01/1993' '02/01/1987' '12/01/1984'\n",
      " '03/01/1978' '03/01/1975' '08/01/1969' '07/01/1988' '10/01/1988'\n",
      " '04/01/1976' '10/01/1983' '05/01/1976' '08/01/1978' '06/01/1980'\n",
      " '12/01/1983' '09/01/1976' '06/01/1977' '11/01/1978' '03/01/1991'\n",
      " '05/01/1982' '10/01/1985' '04/01/1987' '02/01/1984' '07/01/1983'\n",
      " '08/01/1986' '09/01/1987' '12/01/1980' '01/01/1981' '12/01/1976'\n",
      " '01/01/1980' '10/01/1981' '01/01/1968' '12/01/1985' '05/01/1989'\n",
      " '12/01/2007' '07/01/1975' '06/01/1989' '11/01/1975' '01/01/2008'\n",
      " '01/01/1973' '11/01/1976' '08/01/1981' '09/01/1983' '11/01/1987'\n",
      " '07/01/1984' '10/01/1980' '08/01/1973' '01/01/1982' '01/01/1972'\n",
      " '02/01/1976' '02/01/1981' '06/01/1971' '12/01/1991' '06/01/1974'\n",
      " '05/01/1975' '08/01/1976' '08/01/1983' '03/01/1969' '06/01/1983'\n",
      " '09/01/1967' '07/01/1973' '06/01/1969' '03/01/1988' '03/01/1977'\n",
      " '12/01/1979' '11/01/1969' '04/01/1979' '08/01/1974' '05/01/1965'\n",
      " '05/01/1985' '10/01/1976' '10/01/1964' '09/01/1968' '09/01/1969'\n",
      " '02/01/1979' '01/01/1977' '08/01/1968' '03/01/1972' '05/01/1973'\n",
      " '04/01/1975' '07/01/1967' '01/01/1983' '04/01/1977' '04/01/1967'\n",
      " '04/01/1978' '12/01/1968' '11/01/1967' '08/01/2008' '12/01/1950'\n",
      " '08/01/1970' '11/01/1982' '09/01/1964' '06/01/1959' '05/01/1981'\n",
      " '06/01/1967' '05/01/1977' '11/01/1971' '12/01/1975' '12/01/1972'\n",
      " '07/01/1976' '05/01/1986' '09/01/1973' '11/01/1981' '12/01/1970'\n",
      " '10/01/1972' '09/01/1970' '05/01/1970' '01/01/1975' '07/01/1972'\n",
      " '09/01/1963' '01/01/1978' '03/01/1980' '10/01/1973' '09/01/1956'\n",
      " '09/01/2008' '02/01/1980' '07/01/1974' '07/01/1979' '06/01/1979'\n",
      " '03/01/1971' '01/01/1963' '11/01/1977' '05/01/1969' '12/01/1966'\n",
      " '10/01/1978' '12/01/1981' '09/01/1965' '09/01/1977' '02/01/1974'\n",
      " '02/01/1975' '01/01/1976' '08/01/1975' '06/01/1973' '07/01/1981'\n",
      " '02/01/1971' '07/01/1971' '07/01/2008']\n",
      "\n",
      "inq_last_6mths unique values: [ 0.  2.  4.  1.  3.  6.  8.  5.  7. 16.  9. 18. 10. 25. 11. 17. 15. 24.\n",
      " 14. 12.]\n",
      "\n",
      "mths_since_last_delinq unique values: [120.  16.  19.  13.  34.  49.  32.  67.  48.  58.  52.  39.  60.  62.\n",
      "  64.   4.  63.  27.  15.  11.  26.   9.  23.  31.  55.  17.  42.  44.\n",
      "  78.  38.  54.  41.  43.  28.  56.   6.  37.   5.  36.  81.  47.  18.\n",
      "  82.  79.  69.  22.  76.  24.  73.   0.  29.  33.  61.  12.   3.   8.\n",
      "  72.  70.  20.  68.  59.  80.  30.  46.  21.  14.  25.  10.  66.  57.\n",
      "  35.  65.  53.  71.  51.   2.  50.   7.  45.  74.  77.  75. 115.   1.\n",
      "  40.  97.  95.  83.  85.  89.  96.]\n",
      "\n",
      "mths_since_last_record unique values: [119.  27.  92.   0.  88.  98. 113. 110.  87.  93. 101.  77.  63.  38.\n",
      " 116.  56.  95.  68.  96.  72. 100.  85. 102. 104. 107.  91.  89.  53.\n",
      "  43.  59.  41.  94. 112. 103. 115. 111.  47.  90.  86. 109.  48. 114.\n",
      "  20. 108. 106.  50.  67.  99.  81.  74.  49.  30. 105.  66.  71.  45.\n",
      " 118.  44.  25.  62.  82.  58. 117.  78.  51.   6.  76.  80.  55.  22.\n",
      "  40.  97.  61.  26.  29.  73.  46.  65.  31.  60.  33.  57.  17.  70.\n",
      "  36.  52.  54.  75.  69.  11.  39.  28.  64.  24.]\n",
      "\n",
      "open_acc unique values: [15.  4.  6.  8. 18.  9. 11. 10. 12.  3. 13.  5. 16.  2. 14.  7. 25. 19.\n",
      " 30. 17. 20. 26. 21. 29. 24. 22. 23. 28. 36.  1. 39. 33. 35. 27. 31. 32.]\n",
      "\n",
      "pub_rec unique values: [0. 1. 2. 3.]\n",
      "\n",
      "revol_bal unique values: [12087 10114    81 ... 11346 17157  2304]\n",
      "\n",
      "revol_util unique values: [1.210e+01 6.400e+01 6.000e-01 ... 3.688e+01 3.000e-02 1.006e+02]\n",
      "\n",
      "total_acc unique values: [44.  5.  8. 23. 21. 25. 29. 10. 27. 18. 24. 37. 19.  9. 36. 54. 20. 26.\n",
      "  7. 22. 13. 12. 16. 43. 38. 49. 15. 31. 11.  3. 32. 28. 30. 56. 39. 17.\n",
      " 35. 34.  6. 62. 14. 53. 33. 41. 61. 46.  4. 50. 47. 55. 42. 63. 52. 40.\n",
      " 66. 57. 48. 45.  1. 51.  2. 60. 67. 90. 58. 78. 59. 77. 76. 80. 64. 70.\n",
      " 79. 69. 81.]\n",
      "\n",
      "initial_list_status unique values: ['f' 'm']\n",
      "\n",
      "collections_12_mths_ex_med unique values: [0.]\n",
      "\n",
      "mths_since_last_major_derog unique values: [1 2 3]\n",
      "\n",
      "policy_code unique values: ['PC4' 'PC1' 'PC2' 'PC3' 'PC5']\n",
      "\n"
     ]
    }
   ],
   "source": [
    "for col in df_raw.columns:\n",
    "    print(f'{col} unique values: {df_raw[col].unique()}')\n",
    "    print()"
   ]
  },
  {
   "cell_type": "markdown",
   "id": "1c0e95cf",
   "metadata": {},
   "source": [
    "We note few things: \n",
    "- ```emp_length``` values are strings when they should be ints (or floats). There are also 'na' entries.\n",
    "- ```earliest_cr_line``` values are strings when we want them to be some type of numerical values."
   ]
  },
  {
   "cell_type": "markdown",
   "id": "8e930f9d",
   "metadata": {},
   "source": [
    "Convert ```emp_length``` by turning it into int values. We assume that 'na' entries correspond to 0"
   ]
  },
  {
   "cell_type": "code",
   "execution_count": 31,
   "id": "c750517a",
   "metadata": {},
   "outputs": [],
   "source": [
    "df_raw['emp_length'] = df_raw['emp_length'].apply(lambda x: 0 if x=='na' else int(x))"
   ]
  },
  {
   "cell_type": "markdown",
   "id": "421c3acc",
   "metadata": {},
   "source": [
    "Convert ```earliest_cr_line``` into integer (number of days compared to the most recent entry in `'earliest_cr_line'`, which is `12/01/2007`). We'll make a new column `earliest_cr_line_in_days`."
   ]
  },
  {
   "cell_type": "code",
   "execution_count": 32,
   "id": "e07243e9",
   "metadata": {},
   "outputs": [],
   "source": [
    "# Declare new column\n",
    "df_raw['earliest_cr_line_in_days'] = \\\n",
    "df_raw['earliest_cr_line'].apply(lambda x: (pd.to_datetime(df_raw['earliest_cr_line'].max()) - pd.to_datetime(x)).days)\n",
    "\n",
    "# Drop 'earliest_cr_line'\n",
    "df_raw.drop(['earliest_cr_line'],axis=1,inplace=True)"
   ]
  },
  {
   "cell_type": "markdown",
   "id": "49c05cd1",
   "metadata": {},
   "source": [
    "Check the data one last time."
   ]
  },
  {
   "cell_type": "code",
   "execution_count": 33,
   "id": "4d769c5d",
   "metadata": {},
   "outputs": [
    {
     "data": {
      "text/html": [
       "<div>\n",
       "<style scoped>\n",
       "    .dataframe tbody tr th:only-of-type {\n",
       "        vertical-align: middle;\n",
       "    }\n",
       "\n",
       "    .dataframe tbody tr th {\n",
       "        vertical-align: top;\n",
       "    }\n",
       "\n",
       "    .dataframe thead th {\n",
       "        text-align: right;\n",
       "    }\n",
       "</style>\n",
       "<table border=\"1\" class=\"dataframe\">\n",
       "  <thead>\n",
       "    <tr style=\"text-align: right;\">\n",
       "      <th></th>\n",
       "      <th>is_bad</th>\n",
       "      <th>emp_length</th>\n",
       "      <th>home_ownership</th>\n",
       "      <th>annual_inc</th>\n",
       "      <th>verification_status</th>\n",
       "      <th>pymnt_plan</th>\n",
       "      <th>notes_sentiment_score</th>\n",
       "      <th>purpose_cat</th>\n",
       "      <th>zip_code_first_digit</th>\n",
       "      <th>debt_to_income</th>\n",
       "      <th>...</th>\n",
       "      <th>open_acc</th>\n",
       "      <th>pub_rec</th>\n",
       "      <th>revol_bal</th>\n",
       "      <th>revol_util</th>\n",
       "      <th>total_acc</th>\n",
       "      <th>initial_list_status</th>\n",
       "      <th>collections_12_mths_ex_med</th>\n",
       "      <th>mths_since_last_major_derog</th>\n",
       "      <th>policy_code</th>\n",
       "      <th>earliest_cr_line_in_days</th>\n",
       "    </tr>\n",
       "  </thead>\n",
       "  <tbody>\n",
       "    <tr>\n",
       "      <th>0</th>\n",
       "      <td>0</td>\n",
       "      <td>10</td>\n",
       "      <td>MORTGAGE</td>\n",
       "      <td>50000.0</td>\n",
       "      <td>not verified</td>\n",
       "      <td>n</td>\n",
       "      <td>0.505946</td>\n",
       "      <td>4</td>\n",
       "      <td>7</td>\n",
       "      <td>10.87</td>\n",
       "      <td>...</td>\n",
       "      <td>15.0</td>\n",
       "      <td>0.0</td>\n",
       "      <td>12087</td>\n",
       "      <td>12.1</td>\n",
       "      <td>44.0</td>\n",
       "      <td>f</td>\n",
       "      <td>0.0</td>\n",
       "      <td>1</td>\n",
       "      <td>PC4</td>\n",
       "      <td>5478</td>\n",
       "    </tr>\n",
       "    <tr>\n",
       "      <th>1</th>\n",
       "      <td>0</td>\n",
       "      <td>1</td>\n",
       "      <td>RENT</td>\n",
       "      <td>39216.0</td>\n",
       "      <td>not verified</td>\n",
       "      <td>n</td>\n",
       "      <td>-0.128000</td>\n",
       "      <td>4</td>\n",
       "      <td>6</td>\n",
       "      <td>9.15</td>\n",
       "      <td>...</td>\n",
       "      <td>4.0</td>\n",
       "      <td>0.0</td>\n",
       "      <td>10114</td>\n",
       "      <td>64.0</td>\n",
       "      <td>5.0</td>\n",
       "      <td>f</td>\n",
       "      <td>0.0</td>\n",
       "      <td>2</td>\n",
       "      <td>PC1</td>\n",
       "      <td>760</td>\n",
       "    </tr>\n",
       "    <tr>\n",
       "      <th>2</th>\n",
       "      <td>0</td>\n",
       "      <td>4</td>\n",
       "      <td>RENT</td>\n",
       "      <td>65000.0</td>\n",
       "      <td>not verified</td>\n",
       "      <td>n</td>\n",
       "      <td>0.505946</td>\n",
       "      <td>0</td>\n",
       "      <td>9</td>\n",
       "      <td>11.24</td>\n",
       "      <td>...</td>\n",
       "      <td>4.0</td>\n",
       "      <td>0.0</td>\n",
       "      <td>81</td>\n",
       "      <td>0.6</td>\n",
       "      <td>8.0</td>\n",
       "      <td>f</td>\n",
       "      <td>0.0</td>\n",
       "      <td>3</td>\n",
       "      <td>PC4</td>\n",
       "      <td>13697</td>\n",
       "    </tr>\n",
       "    <tr>\n",
       "      <th>3</th>\n",
       "      <td>0</td>\n",
       "      <td>10</td>\n",
       "      <td>MORTGAGE</td>\n",
       "      <td>57500.0</td>\n",
       "      <td>not verified</td>\n",
       "      <td>n</td>\n",
       "      <td>0.505946</td>\n",
       "      <td>4</td>\n",
       "      <td>1</td>\n",
       "      <td>6.18</td>\n",
       "      <td>...</td>\n",
       "      <td>6.0</td>\n",
       "      <td>0.0</td>\n",
       "      <td>10030</td>\n",
       "      <td>37.1</td>\n",
       "      <td>23.0</td>\n",
       "      <td>f</td>\n",
       "      <td>0.0</td>\n",
       "      <td>2</td>\n",
       "      <td>PC2</td>\n",
       "      <td>9222</td>\n",
       "    </tr>\n",
       "    <tr>\n",
       "      <th>4</th>\n",
       "      <td>0</td>\n",
       "      <td>10</td>\n",
       "      <td>MORTGAGE</td>\n",
       "      <td>50004.0</td>\n",
       "      <td>VERIFIED - income</td>\n",
       "      <td>n</td>\n",
       "      <td>-0.381800</td>\n",
       "      <td>4</td>\n",
       "      <td>4</td>\n",
       "      <td>19.03</td>\n",
       "      <td>...</td>\n",
       "      <td>8.0</td>\n",
       "      <td>0.0</td>\n",
       "      <td>10740</td>\n",
       "      <td>40.4</td>\n",
       "      <td>21.0</td>\n",
       "      <td>f</td>\n",
       "      <td>0.0</td>\n",
       "      <td>3</td>\n",
       "      <td>PC3</td>\n",
       "      <td>2983</td>\n",
       "    </tr>\n",
       "  </tbody>\n",
       "</table>\n",
       "<p>5 rows × 24 columns</p>\n",
       "</div>"
      ],
      "text/plain": [
       "   is_bad  emp_length home_ownership  annual_inc verification_status  \\\n",
       "0       0          10       MORTGAGE     50000.0        not verified   \n",
       "1       0           1           RENT     39216.0        not verified   \n",
       "2       0           4           RENT     65000.0        not verified   \n",
       "3       0          10       MORTGAGE     57500.0        not verified   \n",
       "4       0          10       MORTGAGE     50004.0   VERIFIED - income   \n",
       "\n",
       "  pymnt_plan  notes_sentiment_score purpose_cat zip_code_first_digit  \\\n",
       "0          n               0.505946           4                    7   \n",
       "1          n              -0.128000           4                    6   \n",
       "2          n               0.505946           0                    9   \n",
       "3          n               0.505946           4                    1   \n",
       "4          n              -0.381800           4                    4   \n",
       "\n",
       "   debt_to_income  ...  open_acc  pub_rec  revol_bal  revol_util  total_acc  \\\n",
       "0           10.87  ...      15.0      0.0      12087        12.1       44.0   \n",
       "1            9.15  ...       4.0      0.0      10114        64.0        5.0   \n",
       "2           11.24  ...       4.0      0.0         81         0.6        8.0   \n",
       "3            6.18  ...       6.0      0.0      10030        37.1       23.0   \n",
       "4           19.03  ...       8.0      0.0      10740        40.4       21.0   \n",
       "\n",
       "   initial_list_status  collections_12_mths_ex_med  \\\n",
       "0                    f                         0.0   \n",
       "1                    f                         0.0   \n",
       "2                    f                         0.0   \n",
       "3                    f                         0.0   \n",
       "4                    f                         0.0   \n",
       "\n",
       "   mths_since_last_major_derog  policy_code earliest_cr_line_in_days  \n",
       "0                            1          PC4                     5478  \n",
       "1                            2          PC1                      760  \n",
       "2                            3          PC4                    13697  \n",
       "3                            2          PC2                     9222  \n",
       "4                            3          PC3                     2983  \n",
       "\n",
       "[5 rows x 24 columns]"
      ]
     },
     "execution_count": 33,
     "metadata": {},
     "output_type": "execute_result"
    }
   ],
   "source": [
    "df_raw.head()"
   ]
  },
  {
   "cell_type": "markdown",
   "id": "1b37f189",
   "metadata": {},
   "source": [
    "Looks good! Just going to reset the index for completeness. "
   ]
  },
  {
   "cell_type": "code",
   "execution_count": 34,
   "id": "fdd74505",
   "metadata": {},
   "outputs": [],
   "source": [
    "df_raw = df_raw.reset_index()\n",
    "df_raw.drop(['index'],axis=1,inplace=True)"
   ]
  },
  {
   "cell_type": "markdown",
   "id": "af5595cf",
   "metadata": {},
   "source": [
    "# Dividing the Columns into Three Types"
   ]
  },
  {
   "cell_type": "markdown",
   "id": "2f67fa79",
   "metadata": {},
   "source": [
    "Let's divide the columns into 3 categories for ease of analysis:\n",
    "- ```target```\n",
    "- ```numerical```\n",
    "- ```categorical```"
   ]
  },
  {
   "cell_type": "code",
   "execution_count": 35,
   "id": "e975db8e",
   "metadata": {},
   "outputs": [],
   "source": [
    "# Define the list\n",
    "target = ['is_bad']\n",
    "numerical = []\n",
    "categorical = []\n",
    "\n",
    "# Put them in the list based on dtype\n",
    "for column in df_raw.columns[1:]:\n",
    "    if df_raw[column].dtype==object:\n",
    "        categorical += [column]\n",
    "    else:\n",
    "        numerical += [column]"
   ]
  },
  {
   "cell_type": "code",
   "execution_count": 36,
   "id": "c9c4e4a0",
   "metadata": {},
   "outputs": [
    {
     "name": "stdout",
     "output_type": "stream",
     "text": [
      "['emp_length', 'annual_inc', 'notes_sentiment_score', 'debt_to_income', 'delinq_2yrs', 'inq_last_6mths', 'mths_since_last_delinq', 'mths_since_last_record', 'open_acc', 'pub_rec', 'revol_bal', 'revol_util', 'total_acc', 'collections_12_mths_ex_med', 'mths_since_last_major_derog', 'earliest_cr_line_in_days']\n",
      "['home_ownership', 'verification_status', 'pymnt_plan', 'purpose_cat', 'zip_code_first_digit', 'initial_list_status', 'policy_code']\n"
     ]
    }
   ],
   "source": [
    "print(numerical)\n",
    "print(categorical)"
   ]
  },
  {
   "cell_type": "markdown",
   "id": "1b070d11",
   "metadata": {},
   "source": [
    "# Data Exploration: Histogram Analysis"
   ]
  },
  {
   "cell_type": "markdown",
   "id": "a41ef057",
   "metadata": {},
   "source": [
    "Now that we have processed the dataset, I want to divide them into `is_bad==0` and `is_bad==1` entries and compare the distribution of numerical columns."
   ]
  },
  {
   "cell_type": "code",
   "execution_count": 37,
   "id": "3f4e2a48",
   "metadata": {},
   "outputs": [
    {
     "name": "stdout",
     "output_type": "stream",
     "text": [
      "There are 8656 entries with fulfilled loans\n",
      "There are 1292 entries with defaulted loans\n"
     ]
    }
   ],
   "source": [
    "print(f\"There are {df_raw[df_raw['is_bad']==0].shape[0]} entries with fulfilled loans\")\n",
    "print(f\"There are {df_raw[df_raw['is_bad']==1].shape[0]} entries with defaulted loans\")"
   ]
  },
  {
   "cell_type": "code",
   "execution_count": 38,
   "id": "4cc7f1cf",
   "metadata": {},
   "outputs": [],
   "source": [
    "df_fulfilled = df_raw[df_raw['is_bad']==0]\n",
    "df_default = df_raw[df_raw['is_bad']==1]"
   ]
  },
  {
   "cell_type": "markdown",
   "id": "a5b0d2d3",
   "metadata": {},
   "source": [
    "Let's make a histogram plot comparing the two datasets."
   ]
  },
  {
   "cell_type": "code",
   "execution_count": 39,
   "id": "d4f913d0",
   "metadata": {},
   "outputs": [
    {
     "data": {
      "image/png": "[encoded data removed]",
      "text/plain": [
       "<Figure size 1000x1000 with 16 Axes>"
      ]
     },
     "metadata": {},
     "output_type": "display_data"
    }
   ],
   "source": [
    "# Create a 4x4 grid of subplots\n",
    "fig, axes = plt.subplots(4, 4, figsize=(10, 10))\n",
    "\n",
    "# Specify histogram for each subplot\n",
    "for index, column in enumerate(numerical):\n",
    "    i = index//4\n",
    "    j = index%4\n",
    "    \n",
    "    ax = axes[i,j]\n",
    "    ax.hist([df_fulfilled[column],df_default[column]],bins=20,density=True)\n",
    "    ax.set_title(f'{column}')\n",
    "    ax.legend(['is_bad==0','is_bad==1'])\n",
    "\n",
    "# Adjust spacing between subplots\n",
    "plt.tight_layout()\n",
    "\n",
    "# Show the plot\n",
    "plt.show()"
   ]
  },
  {
   "cell_type": "markdown",
   "id": "25f71ef7",
   "metadata": {},
   "source": [
    "Qualitative analysis tells us that for most of the numerical columns, distribution between fulfilled and defaulted datasets show little difference. \n",
    "\n",
    "The largest difference however is in the `revol_util` column. Let's take a careful look at that histogram."
   ]
  },
  {
   "cell_type": "code",
   "execution_count": 40,
   "id": "6fafe26d",
   "metadata": {},
   "outputs": [
    {
     "data": {
      "image/png": "[encoded data removed]",
      "text/plain": [
       "<Figure size 500x300 with 1 Axes>"
      ]
     },
     "metadata": {},
     "output_type": "display_data"
    }
   ],
   "source": [
    "plt.figure(figsize=(5,3))\n",
    "plt.hist([df_fulfilled['revol_util'],df_default['revol_util']],bins=10,density=True);\n",
    "\n",
    "font = 16\n",
    "plt.xlabel('Value',size=font);\n",
    "plt.ylabel('Probability',size=font);\n",
    "plt.xticks(size=font);\n",
    "plt.yticks(size=font);\n",
    "plt.legend(['is_bad==0','is_bad==1'],fontsize=font-4);"
   ]
  },
  {
   "cell_type": "markdown",
   "id": "3ec5aa02",
   "metadata": {},
   "source": [
    "We see that for fulfilled cases, there are more probability in the lower value region of `revol_util`, around 20. For the defaulted cases, there  are more probability in the higher value region of `revol_util`, greater than 80."
   ]
  },
  {
   "cell_type": "markdown",
   "id": "91af247c",
   "metadata": {},
   "source": [
    "### ```StandardScaler``` for numerical columns and ```OneHotEncoder``` for categorical (nominal) columns"
   ]
  },
  {
   "cell_type": "markdown",
   "id": "be4009da",
   "metadata": {},
   "source": [
    "Make intermediate ```df_target```"
   ]
  },
  {
   "cell_type": "code",
   "execution_count": 41,
   "id": "375446ff",
   "metadata": {},
   "outputs": [],
   "source": [
    "df_target = pd.DataFrame(df_raw[target].values,columns=target)"
   ]
  },
  {
   "cell_type": "markdown",
   "id": "8b257016",
   "metadata": {},
   "source": [
    "Make intermediate ```df_numerical```"
   ]
  },
  {
   "cell_type": "code",
   "execution_count": 42,
   "id": "86cef295",
   "metadata": {
    "scrolled": true
   },
   "outputs": [
    {
     "data": {
      "text/html": [
       "<div>\n",
       "<style scoped>\n",
       "    .dataframe tbody tr th:only-of-type {\n",
       "        vertical-align: middle;\n",
       "    }\n",
       "\n",
       "    .dataframe tbody tr th {\n",
       "        vertical-align: top;\n",
       "    }\n",
       "\n",
       "    .dataframe thead th {\n",
       "        text-align: right;\n",
       "    }\n",
       "</style>\n",
       "<table border=\"1\" class=\"dataframe\">\n",
       "  <thead>\n",
       "    <tr style=\"text-align: right;\">\n",
       "      <th></th>\n",
       "      <th>emp_length</th>\n",
       "      <th>annual_inc</th>\n",
       "      <th>notes_sentiment_score</th>\n",
       "      <th>debt_to_income</th>\n",
       "      <th>delinq_2yrs</th>\n",
       "      <th>inq_last_6mths</th>\n",
       "      <th>mths_since_last_delinq</th>\n",
       "      <th>mths_since_last_record</th>\n",
       "      <th>open_acc</th>\n",
       "      <th>pub_rec</th>\n",
       "      <th>revol_bal</th>\n",
       "      <th>revol_util</th>\n",
       "      <th>total_acc</th>\n",
       "      <th>collections_12_mths_ex_med</th>\n",
       "      <th>mths_since_last_major_derog</th>\n",
       "      <th>earliest_cr_line_in_days</th>\n",
       "    </tr>\n",
       "  </thead>\n",
       "  <tbody>\n",
       "    <tr>\n",
       "      <th>0</th>\n",
       "      <td>1.467365</td>\n",
       "      <td>-0.376055</td>\n",
       "      <td>-0.002173</td>\n",
       "      <td>-0.368879</td>\n",
       "      <td>-0.292927</td>\n",
       "      <td>-0.726593</td>\n",
       "      <td>0.722798</td>\n",
       "      <td>0.226534</td>\n",
       "      <td>1.250521</td>\n",
       "      <td>-0.239241</td>\n",
       "      <td>-0.086608</td>\n",
       "      <td>-1.288408</td>\n",
       "      <td>1.877033</td>\n",
       "      <td>0.0</td>\n",
       "      <td>-1.235345</td>\n",
       "      <td>0.617844</td>\n",
       "    </tr>\n",
       "    <tr>\n",
       "      <th>1</th>\n",
       "      <td>-1.109345</td>\n",
       "      <td>-0.598395</td>\n",
       "      <td>-1.746913</td>\n",
       "      <td>-0.623710</td>\n",
       "      <td>-0.292927</td>\n",
       "      <td>0.638625</td>\n",
       "      <td>0.722798</td>\n",
       "      <td>0.226534</td>\n",
       "      <td>-1.182702</td>\n",
       "      <td>-0.239241</td>\n",
       "      <td>-0.164596</td>\n",
       "      <td>0.550947</td>\n",
       "      <td>-1.457596</td>\n",
       "      <td>0.0</td>\n",
       "      <td>-0.002107</td>\n",
       "      <td>-1.272006</td>\n",
       "    </tr>\n",
       "    <tr>\n",
       "      <th>2</th>\n",
       "      <td>-0.250442</td>\n",
       "      <td>-0.066792</td>\n",
       "      <td>-0.002173</td>\n",
       "      <td>-0.314061</td>\n",
       "      <td>-0.292927</td>\n",
       "      <td>-0.726593</td>\n",
       "      <td>0.722798</td>\n",
       "      <td>0.226534</td>\n",
       "      <td>-1.182702</td>\n",
       "      <td>-0.239241</td>\n",
       "      <td>-0.561172</td>\n",
       "      <td>-1.695973</td>\n",
       "      <td>-1.201086</td>\n",
       "      <td>0.0</td>\n",
       "      <td>1.231130</td>\n",
       "      <td>3.910059</td>\n",
       "    </tr>\n",
       "    <tr>\n",
       "      <th>3</th>\n",
       "      <td>1.467365</td>\n",
       "      <td>-0.221424</td>\n",
       "      <td>-0.002173</td>\n",
       "      <td>-1.063738</td>\n",
       "      <td>1.690759</td>\n",
       "      <td>-0.726593</td>\n",
       "      <td>-1.715720</td>\n",
       "      <td>0.226534</td>\n",
       "      <td>-0.740298</td>\n",
       "      <td>-0.239241</td>\n",
       "      <td>-0.167916</td>\n",
       "      <td>-0.402399</td>\n",
       "      <td>0.081464</td>\n",
       "      <td>0.0</td>\n",
       "      <td>-0.002107</td>\n",
       "      <td>2.117546</td>\n",
       "    </tr>\n",
       "    <tr>\n",
       "      <th>4</th>\n",
       "      <td>1.467365</td>\n",
       "      <td>-0.375973</td>\n",
       "      <td>-2.445419</td>\n",
       "      <td>0.840087</td>\n",
       "      <td>-0.292927</td>\n",
       "      <td>2.003843</td>\n",
       "      <td>0.722798</td>\n",
       "      <td>0.226534</td>\n",
       "      <td>-0.297894</td>\n",
       "      <td>-0.239241</td>\n",
       "      <td>-0.139851</td>\n",
       "      <td>-0.285446</td>\n",
       "      <td>-0.089543</td>\n",
       "      <td>0.0</td>\n",
       "      <td>1.231130</td>\n",
       "      <td>-0.381557</td>\n",
       "    </tr>\n",
       "  </tbody>\n",
       "</table>\n",
       "</div>"
      ],
      "text/plain": [
       "   emp_length  annual_inc  notes_sentiment_score  debt_to_income  delinq_2yrs  \\\n",
       "0    1.467365   -0.376055              -0.002173       -0.368879    -0.292927   \n",
       "1   -1.109345   -0.598395              -1.746913       -0.623710    -0.292927   \n",
       "2   -0.250442   -0.066792              -0.002173       -0.314061    -0.292927   \n",
       "3    1.467365   -0.221424              -0.002173       -1.063738     1.690759   \n",
       "4    1.467365   -0.375973              -2.445419        0.840087    -0.292927   \n",
       "\n",
       "   inq_last_6mths  mths_since_last_delinq  mths_since_last_record  open_acc  \\\n",
       "0       -0.726593                0.722798                0.226534  1.250521   \n",
       "1        0.638625                0.722798                0.226534 -1.182702   \n",
       "2       -0.726593                0.722798                0.226534 -1.182702   \n",
       "3       -0.726593               -1.715720                0.226534 -0.740298   \n",
       "4        2.003843                0.722798                0.226534 -0.297894   \n",
       "\n",
       "    pub_rec  revol_bal  revol_util  total_acc  collections_12_mths_ex_med  \\\n",
       "0 -0.239241  -0.086608   -1.288408   1.877033                         0.0   \n",
       "1 -0.239241  -0.164596    0.550947  -1.457596                         0.0   \n",
       "2 -0.239241  -0.561172   -1.695973  -1.201086                         0.0   \n",
       "3 -0.239241  -0.167916   -0.402399   0.081464                         0.0   \n",
       "4 -0.239241  -0.139851   -0.285446  -0.089543                         0.0   \n",
       "\n",
       "   mths_since_last_major_derog  earliest_cr_line_in_days  \n",
       "0                    -1.235345                  0.617844  \n",
       "1                    -0.002107                 -1.272006  \n",
       "2                     1.231130                  3.910059  \n",
       "3                    -0.002107                  2.117546  \n",
       "4                     1.231130                 -0.381557  "
      ]
     },
     "execution_count": 42,
     "metadata": {},
     "output_type": "execute_result"
    }
   ],
   "source": [
    "# Define standardscaler\n",
    "std = StandardScaler()\n",
    "\n",
    "df_numerical = pd.DataFrame(std.fit_transform(df_raw[numerical]),\n",
    "                            columns=numerical)\n",
    "\n",
    "df_numerical.head()"
   ]
  },
  {
   "cell_type": "markdown",
   "id": "78dc0548",
   "metadata": {},
   "source": [
    "Same for ```df_categorical```"
   ]
  },
  {
   "cell_type": "code",
   "execution_count": 43,
   "id": "5a846a95",
   "metadata": {},
   "outputs": [
    {
     "data": {
      "text/html": [
       "<div>\n",
       "<style scoped>\n",
       "    .dataframe tbody tr th:only-of-type {\n",
       "        vertical-align: middle;\n",
       "    }\n",
       "\n",
       "    .dataframe tbody tr th {\n",
       "        vertical-align: top;\n",
       "    }\n",
       "\n",
       "    .dataframe thead th {\n",
       "        text-align: right;\n",
       "    }\n",
       "</style>\n",
       "<table border=\"1\" class=\"dataframe\">\n",
       "  <thead>\n",
       "    <tr style=\"text-align: right;\">\n",
       "      <th></th>\n",
       "      <th>home_ownership_OTHER</th>\n",
       "      <th>home_ownership_OWN</th>\n",
       "      <th>home_ownership_RENT</th>\n",
       "      <th>verification_status_VERIFIED - income source</th>\n",
       "      <th>verification_status_not verified</th>\n",
       "      <th>pymnt_plan_y</th>\n",
       "      <th>purpose_cat_1</th>\n",
       "      <th>purpose_cat_2</th>\n",
       "      <th>purpose_cat_3</th>\n",
       "      <th>purpose_cat_4</th>\n",
       "      <th>...</th>\n",
       "      <th>zip_code_first_digit_5</th>\n",
       "      <th>zip_code_first_digit_6</th>\n",
       "      <th>zip_code_first_digit_7</th>\n",
       "      <th>zip_code_first_digit_8</th>\n",
       "      <th>zip_code_first_digit_9</th>\n",
       "      <th>initial_list_status_m</th>\n",
       "      <th>policy_code_PC2</th>\n",
       "      <th>policy_code_PC3</th>\n",
       "      <th>policy_code_PC4</th>\n",
       "      <th>policy_code_PC5</th>\n",
       "    </tr>\n",
       "  </thead>\n",
       "  <tbody>\n",
       "    <tr>\n",
       "      <th>0</th>\n",
       "      <td>0.0</td>\n",
       "      <td>0.0</td>\n",
       "      <td>0.0</td>\n",
       "      <td>0.0</td>\n",
       "      <td>1.0</td>\n",
       "      <td>0.0</td>\n",
       "      <td>0.0</td>\n",
       "      <td>0.0</td>\n",
       "      <td>0.0</td>\n",
       "      <td>1.0</td>\n",
       "      <td>...</td>\n",
       "      <td>0.0</td>\n",
       "      <td>0.0</td>\n",
       "      <td>1.0</td>\n",
       "      <td>0.0</td>\n",
       "      <td>0.0</td>\n",
       "      <td>0.0</td>\n",
       "      <td>0.0</td>\n",
       "      <td>0.0</td>\n",
       "      <td>1.0</td>\n",
       "      <td>0.0</td>\n",
       "    </tr>\n",
       "    <tr>\n",
       "      <th>1</th>\n",
       "      <td>0.0</td>\n",
       "      <td>0.0</td>\n",
       "      <td>1.0</td>\n",
       "      <td>0.0</td>\n",
       "      <td>1.0</td>\n",
       "      <td>0.0</td>\n",
       "      <td>0.0</td>\n",
       "      <td>0.0</td>\n",
       "      <td>0.0</td>\n",
       "      <td>1.0</td>\n",
       "      <td>...</td>\n",
       "      <td>0.0</td>\n",
       "      <td>1.0</td>\n",
       "      <td>0.0</td>\n",
       "      <td>0.0</td>\n",
       "      <td>0.0</td>\n",
       "      <td>0.0</td>\n",
       "      <td>0.0</td>\n",
       "      <td>0.0</td>\n",
       "      <td>0.0</td>\n",
       "      <td>0.0</td>\n",
       "    </tr>\n",
       "    <tr>\n",
       "      <th>2</th>\n",
       "      <td>0.0</td>\n",
       "      <td>0.0</td>\n",
       "      <td>1.0</td>\n",
       "      <td>0.0</td>\n",
       "      <td>1.0</td>\n",
       "      <td>0.0</td>\n",
       "      <td>0.0</td>\n",
       "      <td>0.0</td>\n",
       "      <td>0.0</td>\n",
       "      <td>0.0</td>\n",
       "      <td>...</td>\n",
       "      <td>0.0</td>\n",
       "      <td>0.0</td>\n",
       "      <td>0.0</td>\n",
       "      <td>0.0</td>\n",
       "      <td>1.0</td>\n",
       "      <td>0.0</td>\n",
       "      <td>0.0</td>\n",
       "      <td>0.0</td>\n",
       "      <td>1.0</td>\n",
       "      <td>0.0</td>\n",
       "    </tr>\n",
       "    <tr>\n",
       "      <th>3</th>\n",
       "      <td>0.0</td>\n",
       "      <td>0.0</td>\n",
       "      <td>0.0</td>\n",
       "      <td>0.0</td>\n",
       "      <td>1.0</td>\n",
       "      <td>0.0</td>\n",
       "      <td>0.0</td>\n",
       "      <td>0.0</td>\n",
       "      <td>0.0</td>\n",
       "      <td>1.0</td>\n",
       "      <td>...</td>\n",
       "      <td>0.0</td>\n",
       "      <td>0.0</td>\n",
       "      <td>0.0</td>\n",
       "      <td>0.0</td>\n",
       "      <td>0.0</td>\n",
       "      <td>0.0</td>\n",
       "      <td>1.0</td>\n",
       "      <td>0.0</td>\n",
       "      <td>0.0</td>\n",
       "      <td>0.0</td>\n",
       "    </tr>\n",
       "    <tr>\n",
       "      <th>4</th>\n",
       "      <td>0.0</td>\n",
       "      <td>0.0</td>\n",
       "      <td>0.0</td>\n",
       "      <td>0.0</td>\n",
       "      <td>0.0</td>\n",
       "      <td>0.0</td>\n",
       "      <td>0.0</td>\n",
       "      <td>0.0</td>\n",
       "      <td>0.0</td>\n",
       "      <td>1.0</td>\n",
       "      <td>...</td>\n",
       "      <td>0.0</td>\n",
       "      <td>0.0</td>\n",
       "      <td>0.0</td>\n",
       "      <td>0.0</td>\n",
       "      <td>0.0</td>\n",
       "      <td>0.0</td>\n",
       "      <td>0.0</td>\n",
       "      <td>1.0</td>\n",
       "      <td>0.0</td>\n",
       "      <td>0.0</td>\n",
       "    </tr>\n",
       "  </tbody>\n",
       "</table>\n",
       "<p>5 rows × 24 columns</p>\n",
       "</div>"
      ],
      "text/plain": [
       "   home_ownership_OTHER  home_ownership_OWN  home_ownership_RENT  \\\n",
       "0                   0.0                 0.0                  0.0   \n",
       "1                   0.0                 0.0                  1.0   \n",
       "2                   0.0                 0.0                  1.0   \n",
       "3                   0.0                 0.0                  0.0   \n",
       "4                   0.0                 0.0                  0.0   \n",
       "\n",
       "   verification_status_VERIFIED - income source  \\\n",
       "0                                           0.0   \n",
       "1                                           0.0   \n",
       "2                                           0.0   \n",
       "3                                           0.0   \n",
       "4                                           0.0   \n",
       "\n",
       "   verification_status_not verified  pymnt_plan_y  purpose_cat_1  \\\n",
       "0                               1.0           0.0            0.0   \n",
       "1                               1.0           0.0            0.0   \n",
       "2                               1.0           0.0            0.0   \n",
       "3                               1.0           0.0            0.0   \n",
       "4                               0.0           0.0            0.0   \n",
       "\n",
       "   purpose_cat_2  purpose_cat_3  purpose_cat_4  ...  zip_code_first_digit_5  \\\n",
       "0            0.0            0.0            1.0  ...                     0.0   \n",
       "1            0.0            0.0            1.0  ...                     0.0   \n",
       "2            0.0            0.0            0.0  ...                     0.0   \n",
       "3            0.0            0.0            1.0  ...                     0.0   \n",
       "4            0.0            0.0            1.0  ...                     0.0   \n",
       "\n",
       "   zip_code_first_digit_6  zip_code_first_digit_7  zip_code_first_digit_8  \\\n",
       "0                     0.0                     1.0                     0.0   \n",
       "1                     1.0                     0.0                     0.0   \n",
       "2                     0.0                     0.0                     0.0   \n",
       "3                     0.0                     0.0                     0.0   \n",
       "4                     0.0                     0.0                     0.0   \n",
       "\n",
       "   zip_code_first_digit_9  initial_list_status_m  policy_code_PC2  \\\n",
       "0                     0.0                    0.0              0.0   \n",
       "1                     0.0                    0.0              0.0   \n",
       "2                     1.0                    0.0              0.0   \n",
       "3                     0.0                    0.0              1.0   \n",
       "4                     0.0                    0.0              0.0   \n",
       "\n",
       "   policy_code_PC3  policy_code_PC4  policy_code_PC5  \n",
       "0              0.0              1.0              0.0  \n",
       "1              0.0              0.0              0.0  \n",
       "2              0.0              1.0              0.0  \n",
       "3              0.0              0.0              0.0  \n",
       "4              1.0              0.0              0.0  \n",
       "\n",
       "[5 rows x 24 columns]"
      ]
     },
     "execution_count": 43,
     "metadata": {},
     "output_type": "execute_result"
    }
   ],
   "source": [
    "# Define onehotencoder\n",
    "enc = OneHotEncoder(handle_unknown='ignore',\n",
    "                    drop='first')\n",
    "\n",
    "df_categorical = pd.DataFrame(enc.fit_transform(df_raw[categorical]).toarray(),\n",
    "                              columns=enc.get_feature_names_out(categorical))\n",
    "\n",
    "df_categorical.head()"
   ]
  },
  {
   "cell_type": "markdown",
   "id": "e18597b5",
   "metadata": {},
   "source": [
    "### Define ```X```, ```y```, and Put Aside Holdout"
   ]
  },
  {
   "cell_type": "markdown",
   "id": "8eb98be4",
   "metadata": {},
   "source": [
    "Before doing that, one thing we noticed from the histogram analysis is that there's an imbalance between `is_bad==0` and `is_bad==1` class. To resolve that issue, we're going to oversample from the `is_bad==1` class so that there are same number of data set for both classes. "
   ]
  },
  {
   "cell_type": "code",
   "execution_count": 44,
   "id": "0df0ffb7",
   "metadata": {},
   "outputs": [],
   "source": [
    "# Define the combined dataframe\n",
    "df_combined = pd.concat([df_target,df_numerical,df_categorical],axis=1)\n",
    "\n",
    "# Partition df_combined into 'is_bad'=0 and 1\n",
    "df_isbad_0 = df_combined[df_combined['is_bad']==0]\n",
    "df_isbad_1 = df_combined[df_combined['is_bad']==1]\n",
    "\n",
    "# Oversample df_isbad_1 using the sample function\n",
    "n_isbad_0 = np.shape(df_isbad_0)[0]\n",
    "df_isbad_1_oversample = df_isbad_1.sample(n_isbad_0, replace=True)\n",
    "\n",
    "#Combine the two and test the models (just do the holdout this time)\n",
    "df_oversample = pd.concat([df_isbad_0,df_isbad_1_oversample],axis=0)"
   ]
  },
  {
   "cell_type": "markdown",
   "id": "c63f1ba0",
   "metadata": {},
   "source": [
    "We're going to use `df_oversample` as the dataset of choice. "
   ]
  },
  {
   "cell_type": "code",
   "execution_count": 45,
   "id": "3427f73c",
   "metadata": {},
   "outputs": [],
   "source": [
    "# Divide into X and y\n",
    "X = df_oversample.drop(['is_bad'],axis=1)\n",
    "y = df_oversample['is_bad']"
   ]
  },
  {
   "cell_type": "code",
   "execution_count": 46,
   "id": "e37b5ccf",
   "metadata": {},
   "outputs": [],
   "source": [
    "X, X_holdout, y, y_holdout = train_test_split(X, y, test_size=0.2, random_state=869255)"
   ]
  },
  {
   "cell_type": "markdown",
   "id": "5815903b",
   "metadata": {},
   "source": [
    "### Define CV Folds"
   ]
  },
  {
   "cell_type": "code",
   "execution_count": 47,
   "id": "498d25a8",
   "metadata": {},
   "outputs": [],
   "source": [
    "n_splits = 5\n",
    "folds = StratifiedKFold(n_splits=n_splits)"
   ]
  },
  {
   "cell_type": "markdown",
   "id": "0540f9c8",
   "metadata": {},
   "source": [
    "# Prepare the Models"
   ]
  },
  {
   "cell_type": "markdown",
   "id": "ee56537e",
   "metadata": {},
   "source": [
    "For completeness, I'll use all three methods suggested in the task (logistic regression, GBM, and NN). However, due to computational cost, I will only do CV fold on the first two. For the NN, the model will only be tested on the holdout dataset. "
   ]
  },
  {
   "cell_type": "code",
   "execution_count": 55,
   "id": "afcfb938",
   "metadata": {},
   "outputs": [],
   "source": [
    "# Logistic regression \n",
    "LR = LogisticRegression(max_iter=5000)\n",
    "\n",
    "# GBM\n",
    "# Parameter from documentation \n",
    "GBM = GradientBoostingClassifier()"
   ]
  },
  {
   "cell_type": "markdown",
   "id": "88c010a5",
   "metadata": {},
   "source": [
    "To tune the hyperparameter, we're going to use `GridSearchCV`. The choice of hyperparameters to sweep are relatively coarse due to computational cost, but further optimization could be possible."
   ]
  },
  {
   "cell_type": "markdown",
   "id": "c16b9310",
   "metadata": {},
   "source": [
    "### Logistic regression"
   ]
  },
  {
   "cell_type": "code",
   "execution_count": 57,
   "id": "93a882c2",
   "metadata": {},
   "outputs": [
    {
     "name": "stdout",
     "output_type": "stream",
     "text": [
      "Best hyperparameter: {'C': 5}\n",
      "Best accuracy: 0.6159399364712677\n"
     ]
    }
   ],
   "source": [
    "from sklearn.model_selection import GridSearchCV\n",
    "\n",
    "# Define the hyperparameters\n",
    "param_grid = {\n",
    "    'C': [0.1, 0.5, 1, 2, 5, 10, 100]\n",
    "}\n",
    "\n",
    "# Create a grid search object\n",
    "grid_search = GridSearchCV(estimator=LR, param_grid=param_grid, cv=5, scoring='accuracy')\n",
    "\n",
    "# Fit the grid search to your data\n",
    "grid_search.fit(X_holdout, y_holdout)\n",
    "\n",
    "print(f'Best hyperparameter: {grid_search.best_params_}')\n",
    "print(f'Best accuracy: {best_model.score(X_holdout, y_holdout)}')\n",
    "\n",
    "# Get the best model\n",
    "LR_best = grid_search.best_estimator_"
   ]
  },
  {
   "cell_type": "markdown",
   "id": "e5707c35",
   "metadata": {},
   "source": [
    "### GBM"
   ]
  },
  {
   "cell_type": "code",
   "execution_count": 62,
   "id": "c9fcf9aa",
   "metadata": {},
   "outputs": [
    {
     "name": "stdout",
     "output_type": "stream",
     "text": [
      "Best hyperparameter: {'learning_rate': 1, 'max_depth': 4, 'n_estimators': 500}\n",
      "Best accuracy: 0.6159399364712677\n"
     ]
    }
   ],
   "source": [
    "from sklearn.model_selection import GridSearchCV\n",
    "\n",
    "# Define the hyperparameters\n",
    "param_grid = {\n",
    "    'n_estimators': [50, 100, 500],\n",
    "    'learning_rate': [0.05, 1, 2],\n",
    "    'max_depth': [1, 2, 4]\n",
    "}\n",
    "\n",
    "# Create a grid search object\n",
    "grid_search = GridSearchCV(estimator=GBM, param_grid=param_grid, cv=5, scoring='accuracy')\n",
    "\n",
    "# Fit the grid search to your data\n",
    "grid_search.fit(X_holdout, y_holdout)\n",
    "\n",
    "print(f'Best hyperparameter: {grid_search.best_params_}')\n",
    "print(f'Best accuracy: {best_model.score(X_holdout, y_holdout)}')\n",
    "\n",
    "# Get the best model\n",
    "GBM_best = grid_search.best_estimator_"
   ]
  },
  {
   "cell_type": "markdown",
   "id": "08bd83a5",
   "metadata": {},
   "source": [
    "Great! We'll use the two best models (`LR_best` and `GBM_best`) to do CV and test on the holdout dataset."
   ]
  },
  {
   "cell_type": "markdown",
   "id": "90f35d57",
   "metadata": {},
   "source": [
    "Define CV fold function to train and evaluate the model"
   ]
  },
  {
   "cell_type": "code",
   "execution_count": 63,
   "id": "ef78ca84",
   "metadata": {},
   "outputs": [],
   "source": [
    "def evaluate_model(model, X, y, CVfold):\n",
    "    # Define metrics of the model\n",
    "    LL = np.zeros(CVfold.n_splits)\n",
    "    F1 = np.zeros(CVfold.n_splits)\n",
    "    accuracy = np.zeros(CVfold.n_splits)\n",
    "    \n",
    "    for i, (train, test) in enumerate(CVfold.split(X,y)):\n",
    "        print(f'CV {i+1} out of {CVfold.n_splits}')\n",
    "        \n",
    "        # Split X and y\n",
    "        X_train = X.iloc[train]\n",
    "        X_test = X.iloc[test]\n",
    "        y_train = y.iloc[train]\n",
    "        y_test = y.iloc[test]\n",
    "    \n",
    "        # Train the model\n",
    "        model.fit(X_train, y_train)\n",
    "        \n",
    "        # Get y_pred (predicted binary) y_pred_prob (predicted binary probability to be 1, hence [:,1])\n",
    "        y_pred = model.predict(X_test)\n",
    "        y_pred_prob = model.predict_proba(X_test)[:,1]\n",
    "        \n",
    "        # Get the stats\n",
    "        LL[i] = log_loss(y_test, y_pred_prob)\n",
    "        F1[i] = f1_score(y_test, y_pred)\n",
    "        accuracy[i] = model.score(X_test, y_test)\n",
    "        \n",
    "    return LL, F1, accuracy"
   ]
  },
  {
   "cell_type": "markdown",
   "id": "bd9f5dff",
   "metadata": {},
   "source": [
    "Same for using the holdout dataset"
   ]
  },
  {
   "cell_type": "code",
   "execution_count": 64,
   "id": "6118f48a",
   "metadata": {},
   "outputs": [],
   "source": [
    "def evaluate_model_holdout(model, X, y, X_holdout, y_holdout):\n",
    "    # Train the model\n",
    "    model.fit(X, y)\n",
    "\n",
    "    # Get y_pred (predicted binary) y_pred_prob (predicted binary probability to be 1, hence [:,1])\n",
    "    y_pred = model.predict(X_holdout)\n",
    "    y_pred_prob = model.predict_proba(X_holdout)[:,1]\n",
    "\n",
    "    # Get the stats\n",
    "    LL = log_loss(y_holdout, y_pred_prob)\n",
    "    F1 = f1_score(y_holdout, y_pred)\n",
    "    accuracy = model.score(X_holdout, y_holdout)\n",
    "        \n",
    "    return LL, F1, accuracy, y_pred"
   ]
  },
  {
   "cell_type": "markdown",
   "id": "5c5102ef",
   "metadata": {},
   "source": [
    "# Train and Evaluate Logistic Regression and GBM"
   ]
  },
  {
   "cell_type": "markdown",
   "id": "73d1909a",
   "metadata": {},
   "source": [
    "Evaluate two sklearn models"
   ]
  },
  {
   "cell_type": "code",
   "execution_count": 65,
   "id": "622d9db4",
   "metadata": {},
   "outputs": [
    {
     "name": "stdout",
     "output_type": "stream",
     "text": [
      "CV 1 out of 5\n",
      "CV 2 out of 5\n",
      "CV 3 out of 5\n",
      "CV 4 out of 5\n",
      "CV 5 out of 5\n",
      "CV 1 out of 5\n",
      "CV 2 out of 5\n",
      "CV 3 out of 5\n",
      "CV 4 out of 5\n",
      "CV 5 out of 5\n",
      "Logistic regression:\n",
      "Log loss mean: 0.66\n",
      "F1 score mean: 0.60\n",
      "Accuracy mean: 0.59\n",
      "\n",
      "Gradient boost machine:\n",
      "Log loss mean: 0.21\n",
      "F1 score mean: 0.94\n",
      "Accuracy mean: 0.94\n"
     ]
    }
   ],
   "source": [
    "log_loss_LR, F1_LR, accuracy_LR = evaluate_model(model=LR_best,\n",
    "                                                 X=X,\n",
    "                                                 y=y,\n",
    "                                                 CVfold=folds)\n",
    "\n",
    "log_loss_GBM, F1_GBM, accuracy_GBM = evaluate_model(model=GBM_best,\n",
    "                                                   X=X,\n",
    "                                                   y=y,\n",
    "                                                   CVfold=folds)\n",
    "\n",
    "print('Logistic regression:')\n",
    "print(f'Log loss mean: {np.mean(log_loss_LR):0.2f}')\n",
    "print(f'F1 score mean: {np.mean(F1_LR):0.2f}')\n",
    "print(f'Accuracy mean: {np.mean(accuracy_LR):0.2f}')\n",
    "print()\n",
    "print('Gradient boost machine:')\n",
    "print(f'Log loss mean: {np.mean(log_loss_GBM):0.2f}')\n",
    "print(f'F1 score mean: {np.mean(F1_GBM):0.2f}')\n",
    "print(f'Accuracy mean: {np.mean(accuracy_GBM):0.2f}')"
   ]
  },
  {
   "cell_type": "markdown",
   "id": "849cd7f1",
   "metadata": {},
   "source": [
    "We see that the for all three metrics, GBM outperforms logistic regression. This can be attributed to the strength of ensemble methods in dealing with nonlinear dataset opposed to logistic regression classifier which is linear. \n",
    "\n",
    "The non-linearity of the dataset can be examined by looking at the correlation matrix as shown below. "
   ]
  },
  {
   "cell_type": "code",
   "execution_count": 81,
   "id": "2cdf9fbb",
   "metadata": {},
   "outputs": [
    {
     "data": {
      "text/plain": [
       "is_bad                                          1.000000\n",
       "revol_util                                      0.125710\n",
       "total_acc                                       0.090148\n",
       "verification_status_not verified                0.080986\n",
       "annual_inc                                      0.071255\n",
       "purpose_cat_3                                   0.065386\n",
       "purpose_cat_2                                   0.047989\n",
       "zip_code_first_digit_3                          0.046469\n",
       "policy_code_PC3                                 0.045737\n",
       "purpose_cat_1                                   0.045499\n",
       "emp_length                                      0.044462\n",
       "zip_code_first_digit_1                          0.043213\n",
       "zip_code_first_digit_5                          0.040516\n",
       "policy_code_PC2                                 0.040072\n",
       "debt_to_income                                  0.038692\n",
       "open_acc                                        0.037568\n",
       "pub_rec                                         0.035398\n",
       "home_ownership_RENT                             0.033978\n",
       "purpose_cat_4                                   0.033625\n",
       "zip_code_first_digit_9                          0.033393\n",
       "zip_code_first_digit_4                          0.031158\n",
       "delinq_2yrs                                     0.029753\n",
       "mths_since_last_delinq                          0.027459\n",
       "zip_code_first_digit_7                          0.026947\n",
       "mths_since_last_major_derog                     0.026482\n",
       "revol_bal                                       0.024935\n",
       "zip_code_first_digit_8                          0.023268\n",
       "mths_since_last_record                          0.022588\n",
       "earliest_cr_line_in_days                        0.022415\n",
       "pymnt_plan_y                                    0.021502\n",
       "initial_list_status_m                           0.020405\n",
       "home_ownership_OWN                              0.019031\n",
       "verification_status_VERIFIED - income source    0.014459\n",
       "policy_code_PC5                                 0.013376\n",
       "home_ownership_OTHER                            0.011960\n",
       "zip_code_first_digit_6                          0.010007\n",
       "zip_code_first_digit_2                          0.006342\n",
       "notes_sentiment_score                           0.004876\n",
       "policy_code_PC4                                 0.001898\n",
       "inq_last_6mths                                  0.000345\n",
       "collections_12_mths_ex_med                           NaN\n",
       "Name: is_bad, dtype: float64"
      ]
     },
     "execution_count": 81,
     "metadata": {},
     "output_type": "execute_result"
    }
   ],
   "source": [
    "correlation_matrix = df_oversample.corr()\n",
    "target_correlations = correlation_matrix['is_bad'].abs().sort_values(ascending=False)\n",
    "target_correlations"
   ]
  },
  {
   "cell_type": "markdown",
   "id": "f49e7197",
   "metadata": {},
   "source": [
    "We see that the column with the most correlation `revol_util` only has value of 0.1257, suggesting low correlation and nonlinearity between the target variable and other features."
   ]
  },
  {
   "cell_type": "markdown",
   "id": "f562746e",
   "metadata": {},
   "source": [
    "Let's test the models on the holdout dataset"
   ]
  },
  {
   "cell_type": "code",
   "execution_count": 66,
   "id": "f442c923",
   "metadata": {},
   "outputs": [
    {
     "name": "stdout",
     "output_type": "stream",
     "text": [
      "Logistic regression:\n",
      "Log loss: 0.66\n",
      "F1 score: 0.62\n",
      "Accuracy: 0.61\n",
      "\n",
      "Gradient boost machine:\n",
      "Log loss: 0.12\n",
      "F1 score: 0.96\n",
      "Accuracy: 0.96\n"
     ]
    }
   ],
   "source": [
    "log_loss_LR_holdout, F1_LR_holdout, accuracy_LR_holdout, y_pred_LR = \\\n",
    "evaluate_model_holdout(model=LR_best,\n",
    "                       X=X,\n",
    "                       y=y,\n",
    "                       X_holdout=X_holdout,\n",
    "                       y_holdout=y_holdout)\n",
    "\n",
    "log_loss_GBM_holdout, F1_GBM_holdout, accuracy_GBM_holdout, y_pred_GBM = \\\n",
    "evaluate_model_holdout(model=GBM_best,\n",
    "                       X=X,\n",
    "                       y=y,\n",
    "                       X_holdout=X_holdout,\n",
    "                       y_holdout=y_holdout)\n",
    "\n",
    "print('Logistic regression:')\n",
    "print(f'Log loss: {log_loss_LR_holdout:0.2f}')\n",
    "print(f'F1 score: {F1_LR_holdout:0.2f}')\n",
    "print(f'Accuracy: {accuracy_LR_holdout:0.2f}')\n",
    "print()\n",
    "print('Gradient boost machine:')\n",
    "print(f'Log loss: {log_loss_GBM_holdout:0.2f}')\n",
    "print(f'F1 score: {F1_GBM_holdout:0.2f}')\n",
    "print(f'Accuracy: {accuracy_GBM_holdout:0.2f}')"
   ]
  },
  {
   "cell_type": "markdown",
   "id": "d16c9f4a",
   "metadata": {},
   "source": [
    "We see same trend as we did for cross-validation."
   ]
  },
  {
   "cell_type": "markdown",
   "id": "39e86ff9",
   "metadata": {},
   "source": [
    "Let's look at classification report"
   ]
  },
  {
   "cell_type": "code",
   "execution_count": 82,
   "id": "e7e86dec",
   "metadata": {},
   "outputs": [
    {
     "name": "stdout",
     "output_type": "stream",
     "text": [
      "Classification report for: Logistic Regression\n",
      "              precision    recall  f1-score   support\n",
      "\n",
      "           0       0.61      0.57      0.59      1714\n",
      "           1       0.60      0.64      0.62      1749\n",
      "\n",
      "    accuracy                           0.61      3463\n",
      "   macro avg       0.61      0.61      0.61      3463\n",
      "weighted avg       0.61      0.61      0.61      3463\n",
      "\n"
     ]
    }
   ],
   "source": [
    "print('Classification report for: Logistic Regression')\n",
    "print(classification_report(y_holdout, pd.DataFrame(y_pred_LR)))"
   ]
  },
  {
   "cell_type": "code",
   "execution_count": 83,
   "id": "73354487",
   "metadata": {},
   "outputs": [
    {
     "name": "stdout",
     "output_type": "stream",
     "text": [
      "Classification report for: GBM\n",
      "              precision    recall  f1-score   support\n",
      "\n",
      "           0       1.00      0.91      0.95      1714\n",
      "           1       0.92      1.00      0.96      1749\n",
      "\n",
      "    accuracy                           0.96      3463\n",
      "   macro avg       0.96      0.95      0.96      3463\n",
      "weighted avg       0.96      0.96      0.96      3463\n",
      "\n"
     ]
    }
   ],
   "source": [
    "print('Classification report for: GBM')\n",
    "print(classification_report(y_holdout, y_pred_GBM))"
   ]
  },
  {
   "cell_type": "markdown",
   "id": "d8da3b16",
   "metadata": {},
   "source": [
    "# Neural Network"
   ]
  },
  {
   "cell_type": "markdown",
   "id": "a9bee441",
   "metadata": {},
   "source": [
    "We'll do a simple NN without any hidden layer due to high computational cost of tuning the hyperparameter. Here I'm using only one hidden layer with 100 neurons as the problem is relatively simple (as in GBM performs well)."
   ]
  },
  {
   "cell_type": "code",
   "execution_count": 85,
   "id": "76401765",
   "metadata": {},
   "outputs": [
    {
     "name": "stderr",
     "output_type": "stream",
     "text": [
      "2023-09-29 15:21:38.656229: I tensorflow/core/platform/cpu_feature_guard.cc:142] This TensorFlow binary is optimized with oneAPI Deep Neural Network Library (oneDNN) to use the following CPU instructions in performance-critical operations:  SSE4.1 SSE4.2 AVX AVX2 FMA\n",
      "To enable them in other operations, rebuild TensorFlow with the appropriate compiler flags.\n",
      "2023-09-29 15:21:38.729374: I tensorflow/compiler/mlir/mlir_graph_optimization_pass.cc:116] None of the MLIR optimization passes are enabled (registered 2)\n"
     ]
    },
    {
     "name": "stdout",
     "output_type": "stream",
     "text": [
      "Epoch 1/10\n",
      "433/433 [==============================] - 1s 654us/step - loss: 0.6722 - accuracy: 0.5789\n",
      "Epoch 2/10\n",
      "433/433 [==============================] - 0s 609us/step - loss: 0.6093 - accuracy: 0.6619\n",
      "Epoch 3/10\n",
      "433/433 [==============================] - 0s 672us/step - loss: 0.5675 - accuracy: 0.7009\n",
      "Epoch 4/10\n",
      "433/433 [==============================] - 0s 614us/step - loss: 0.5211 - accuracy: 0.7413\n",
      "Epoch 5/10\n",
      "433/433 [==============================] - 0s 602us/step - loss: 0.4741 - accuracy: 0.7842\n",
      "Epoch 6/10\n",
      "433/433 [==============================] - 0s 610us/step - loss: 0.4161 - accuracy: 0.8202\n",
      "Epoch 7/10\n",
      "433/433 [==============================] - 0s 642us/step - loss: 0.3898 - accuracy: 0.8415\n",
      "Epoch 8/10\n",
      "433/433 [==============================] - 0s 616us/step - loss: 0.3391 - accuracy: 0.8670\n",
      "Epoch 9/10\n",
      "433/433 [==============================] - 0s 607us/step - loss: 0.3056 - accuracy: 0.8860\n",
      "Epoch 10/10\n",
      "433/433 [==============================] - 0s 638us/step - loss: 0.2710 - accuracy: 0.9092\n"
     ]
    },
    {
     "data": {
      "text/plain": [
       "<tensorflow.python.keras.callbacks.History at 0x7fa890bacca0>"
      ]
     },
     "execution_count": 85,
     "metadata": {},
     "output_type": "execute_result"
    }
   ],
   "source": [
    "# Define the model\n",
    "NN = keras.Sequential([\n",
    "     keras.layers.Dense(100, input_shape=(np.shape(X)[1],), activation='relu'), \n",
    "     keras.layers.Dense(100, activation='relu'),\n",
    "     keras.layers.Dense(1, activation='sigmoid')\n",
    "])\n",
    "\n",
    "# Compile the model\n",
    "NN.compile(\n",
    "    optimizer='adam',\n",
    "    loss='binary_crossentropy',\n",
    "    metrics=['accuracy']\n",
    ")\n",
    "\n",
    "# Fit the model\n",
    "NN.fit(X, y, epochs=10)"
   ]
  },
  {
   "cell_type": "code",
   "execution_count": 86,
   "id": "72260746",
   "metadata": {},
   "outputs": [
    {
     "name": "stderr",
     "output_type": "stream",
     "text": [
      "/Users/WHR/opt/anaconda3/lib/python3.9/site-packages/tensorflow/python/keras/engine/sequential.py:450: UserWarning: `model.predict_classes()` is deprecated and will be removed after 2021-01-01. Please use instead:* `np.argmax(model.predict(x), axis=-1)`,   if your model does multi-class classification   (e.g. if it uses a `softmax` last-layer activation).* `(model.predict(x) > 0.5).astype(\"int32\")`,   if your model does binary classification   (e.g. if it uses a `sigmoid` last-layer activation).\n",
      "  warnings.warn('`model.predict_classes()` is deprecated and '\n"
     ]
    },
    {
     "name": "stdout",
     "output_type": "stream",
     "text": [
      "109/109 [==============================] - 0s 453us/step - loss: 0.3649 - accuracy: 0.8530\n"
     ]
    }
   ],
   "source": [
    "# Get prediction and probability for the test dataset\n",
    "y_pred_NN = np.transpose(NN.predict_classes(X_holdout))[0]\n",
    "y_pred_prob_NN = np.transpose(NN.predict(X_holdout))[0]\n",
    "\n",
    "# Get stats\n",
    "log_loss_NN_holdout = log_loss(y_holdout, y_pred_prob_NN)\n",
    "F1_NN_holdout = f1_score(y_holdout, y_pred_NN)\n",
    "accuracy_NN_holdout = NN.evaluate(X_holdout, y_holdout)[1]"
   ]
  },
  {
   "cell_type": "code",
   "execution_count": 87,
   "id": "a850a0fe",
   "metadata": {},
   "outputs": [
    {
     "name": "stdout",
     "output_type": "stream",
     "text": [
      "Neural network:\n",
      "Log loss: 0.36489212972156565\n",
      "F1 score: 0.8658761528326746\n",
      "Accuracy: 0.8530176281929016\n"
     ]
    }
   ],
   "source": [
    "print('Neural network:')\n",
    "print(f'Log loss: {log_loss_NN_holdout}')\n",
    "print(f'F1 score: {F1_NN_holdout}')\n",
    "print(f'Accuracy: {accuracy_NN_holdout}')"
   ]
  },
  {
   "cell_type": "markdown",
   "id": "bdc59f7c",
   "metadata": {},
   "source": [
    "We see that compared to GBM, NN performs slightly worse with higher log loss and lower F1 and accuracy, but much better than logistic regression. "
   ]
  },
  {
   "cell_type": "code",
   "execution_count": 89,
   "id": "b5fccc3e",
   "metadata": {},
   "outputs": [
    {
     "name": "stdout",
     "output_type": "stream",
     "text": [
      "Classification report for: NN\n",
      "              precision    recall  f1-score   support\n",
      "\n",
      "           0       0.93      0.76      0.84      1714\n",
      "           1       0.80      0.94      0.87      1749\n",
      "\n",
      "    accuracy                           0.85      3463\n",
      "   macro avg       0.86      0.85      0.85      3463\n",
      "weighted avg       0.86      0.85      0.85      3463\n",
      "\n"
     ]
    }
   ],
   "source": [
    "print('Classification report for: NN')\n",
    "print(classification_report(y_holdout, y_pred_NN))"
   ]
  },
  {
   "cell_type": "markdown",
   "id": "5f8ee439",
   "metadata": {},
   "source": [
    "# Three Most Important Features"
   ]
  },
  {
   "cell_type": "markdown",
   "id": "c06ce032",
   "metadata": {},
   "source": [
    "Since all three models give comparable performance in terms of log loss, F1 score, and accuracy, let's see what the three most important features are for the ML models (not straightforward in NN)"
   ]
  },
  {
   "cell_type": "markdown",
   "id": "25f5a07e",
   "metadata": {},
   "source": [
    "### Linear Regression"
   ]
  },
  {
   "cell_type": "code",
   "execution_count": 90,
   "id": "e33cf36e",
   "metadata": {},
   "outputs": [
    {
     "name": "stdout",
     "output_type": "stream",
     "text": [
      "Linear regression:\n",
      "1st important feature:\n",
      "pymnt_plan_y, abs(coef): 2.37\n",
      "2nd important feature:\n",
      "initial_list_status_m, abs(coef): 1.66\n",
      "3rd important feature:\n",
      "purpose_cat_1, abs(coef): 1.31\n"
     ]
    }
   ],
   "source": [
    "feature_indices = np.argsort(np.abs(LR_best.coef_[0]))\n",
    "print('Linear regression:')\n",
    "print(f'1st important feature:')\n",
    "print(f'{X.columns[feature_indices[-1]]}, abs(coef): {np.abs(LR_best.coef_[0])[feature_indices[-1]]:0.2f}')\n",
    "print(f'2nd important feature:')\n",
    "print(f'{X.columns[feature_indices[-2]]}, abs(coef): {np.abs(LR_best.coef_[0])[feature_indices[-2]]:0.2f}')\n",
    "print(f'3rd important feature:')\n",
    "print(f'{X.columns[feature_indices[-3]]}, abs(coef): {np.abs(LR_best.coef_[0])[feature_indices[-3]]:0.2f}')"
   ]
  },
  {
   "cell_type": "markdown",
   "id": "c0e49ed0",
   "metadata": {},
   "source": [
    "### GBM"
   ]
  },
  {
   "cell_type": "code",
   "execution_count": 91,
   "id": "528999d1",
   "metadata": {},
   "outputs": [
    {
     "name": "stdout",
     "output_type": "stream",
     "text": [
      "GBM:\n",
      "1st important feature:\n",
      "revol_bal, abs(coef): 0.14\n",
      "2nd important feature:\n",
      "revol_util, abs(coef): 0.12\n",
      "3rd important feature:\n",
      "debt_to_income, abs(coef): 0.11\n"
     ]
    }
   ],
   "source": [
    "feature_indices = np.argsort(GBM_best.feature_importances_)\n",
    "print('GBM:')\n",
    "print(f'1st important feature:')\n",
    "print(f'{X.columns[feature_indices[-1]]}, abs(coef): {GBM_best.feature_importances_[feature_indices[-1]]:0.2f}')\n",
    "print(f'2nd important feature:')\n",
    "print(f'{X.columns[feature_indices[-2]]}, abs(coef): {GBM_best.feature_importances_[feature_indices[-2]]:0.2f}')\n",
    "print(f'3rd important feature:')\n",
    "print(f'{X.columns[feature_indices[-3]]}, abs(coef): {GBM_best.feature_importances_[feature_indices[-3]]:0.2f}')"
   ]
  },
  {
   "cell_type": "markdown",
   "id": "8df6205f",
   "metadata": {},
   "source": [
    "# Recommended Model to Use"
   ]
  },
  {
   "cell_type": "markdown",
   "id": "1637e5dc",
   "metadata": {},
   "source": [
    "Considering the performance of the GBM model over logistic regression and neural network, I would recommend using **gradient boosting machine** for this loan default classification problem. \n",
    "\n",
    "Note that it's possible to improve upon the NN model using this dataset, but I believe GBM will still be better to use as it will be faster in classifying new data. "
   ]
  },
  {
   "cell_type": "code",
   "execution_count": null,
   "id": "43251b40",
   "metadata": {},
   "outputs": [],
   "source": []
  }
 ],
 "metadata": {
  "kernelspec": {
   "display_name": "Python 3 (ipykernel)",
   "language": "python",
   "name": "python3"
  },
  "language_info": {
   "codemirror_mode": {
    "name": "ipython",
    "version": 3
   },
   "file_extension": ".py",
   "mimetype": "text/x-python",
   "name": "python",
   "nbconvert_exporter": "python",
   "pygments_lexer": "ipython3",
   "version": "3.9.12"
  }
 },
 "nbformat": 4,
 "nbformat_minor": 5
}
